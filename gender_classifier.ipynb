{
  "nbformat": 4,
  "nbformat_minor": 0,
  "metadata": {
    "colab": {
      "name": "gender_classifier.ipynb",
      "provenance": [],
      "collapsed_sections": [],
      "toc_visible": true,
      "mount_file_id": "1QbIew2DNuI68mRfj-kvRt1d-h-Qvxu47",
      "authorship_tag": "ABX9TyN3UUgPfzbK2NOJ/7lYRfY1",
      "include_colab_link": true
    },
    "kernelspec": {
      "name": "python3",
      "display_name": "Python 3"
    },
    "accelerator": "GPU"
  },
  "cells": [
    {
      "cell_type": "markdown",
      "metadata": {
        "id": "view-in-github",
        "colab_type": "text"
      },
      "source": [
        "<a href=\"https://colab.research.google.com/github/ooeyad/utterance_Gender_Classifier/blob/master/gender_classifier.ipynb\" target=\"_parent\"><img src=\"https://colab.research.google.com/assets/colab-badge.svg\" alt=\"Open In Colab\"/></a>"
      ]
    },
    {
      "cell_type": "markdown",
      "metadata": {
        "id": "Hmc37F2s6gLj",
        "colab_type": "text"
      },
      "source": [
        "Imoprt Required Libraries"
      ]
    },
    {
      "cell_type": "code",
      "metadata": {
        "id": "M86v3kFq4MFi",
        "colab_type": "code",
        "colab": {
          "base_uri": "https://localhost:8080/",
          "height": 211
        },
        "outputId": "7122f539-b643-482c-f0ce-63434055a1df"
      },
      "source": [
        "pip install colorednoise"
      ],
      "execution_count": 1,
      "outputs": [
        {
          "output_type": "stream",
          "text": [
            "Collecting colorednoise\n",
            "  Downloading https://files.pythonhosted.org/packages/a3/3e/85645bcaa5ba6003c6e3c650fe23c6352f7aa4a36eb1d700f3609e52963e/colorednoise-1.1.1.tar.gz\n",
            "Requirement already satisfied: numpy in /usr/local/lib/python3.6/dist-packages (from colorednoise) (1.18.5)\n",
            "Building wheels for collected packages: colorednoise\n",
            "  Building wheel for colorednoise (setup.py) ... \u001b[?25l\u001b[?25hdone\n",
            "  Created wheel for colorednoise: filename=colorednoise-1.1.1-cp36-none-any.whl size=3958 sha256=67475483fdcc64234dac04a896a142bdb440e5c561bcea13f1b9766ec6e75ef4\n",
            "  Stored in directory: /root/.cache/pip/wheels/84/be/f3/3e7e1c80ebab3f6f0dbd3e34e787b902d2280d66706485fef4\n",
            "Successfully built colorednoise\n",
            "Installing collected packages: colorednoise\n",
            "Successfully installed colorednoise-1.1.1\n"
          ],
          "name": "stdout"
        }
      ]
    },
    {
      "cell_type": "code",
      "metadata": {
        "id": "8vZ5jgUG1FYZ",
        "colab_type": "code",
        "colab": {}
      },
      "source": [
        "import librosa\n",
        "import librosa.display\n",
        "\n",
        "\n",
        "import scipy\n",
        "# import scipy.io.wavfile\n",
        "import numpy as np\n",
        "import pandas as pd\n",
        "\n",
        "import tensorflow as tf\n",
        "\n",
        "import keras\n",
        "from keras.models import Sequential\n",
        "from keras.layers import Dense, Dropout, Activation,TimeDistributed,Conv1D,MaxPooling1D,LSTM,Flatten,Conv2D,AveragePooling1D, AveragePooling2D, MaxPooling2D, BatchNormalization, GRU\n",
        "from keras.callbacks import EarlyStopping, ModelCheckpoint\n",
        "\n",
        "import tarfile\n",
        "import os\n",
        "\n",
        "from matplotlib import pyplot as plt\n",
        "from sklearn.utils import shuffle\n",
        "from sklearn.preprocessing import StandardScaler\n",
        "from sklearn.model_selection import train_test_split , KFold , cross_val_score\n",
        "from sklearn.metrics import accuracy_score,f1_score, fbeta_score\n",
        "\n",
        "import xgboost\n",
        "\n",
        "import IPython\n",
        "\n",
        "from keras.models import model_from_json\n",
        "\n",
        "from google.colab import drive\n",
        "\n",
        "import shutil\n",
        "\n",
        "\n",
        "# Colored Noise\n",
        "import colorednoise as cn\n",
        "\n",
        "import pickle\n",
        "\n",
        "from keras.callbacks import LearningRateScheduler\n",
        "\n",
        "import math\n",
        "\n",
        "from joblib import dump, load\n",
        "\n",
        "%matplotlib inline"
      ],
      "execution_count": 402,
      "outputs": []
    },
    {
      "cell_type": "markdown",
      "metadata": {
        "id": "ay49fwMDfcDU",
        "colab_type": "text"
      },
      "source": [
        "Mount my Google Drive"
      ]
    },
    {
      "cell_type": "code",
      "metadata": {
        "id": "zstyYmQLJ-34",
        "colab_type": "code",
        "colab": {
          "base_uri": "https://localhost:8080/",
          "height": 124
        },
        "outputId": "8e771127-4299-44aa-ffa4-0cb042edddd2"
      },
      "source": [
        "drive.mount('/drive')"
      ],
      "execution_count": null,
      "outputs": [
        {
          "output_type": "stream",
          "text": [
            "Go to this URL in a browser: https://accounts.google.com/o/oauth2/auth?client_id=947318989803-6bn6qk8qdgf4n4g3pfee6491hc0brc4i.apps.googleusercontent.com&redirect_uri=urn%3aietf%3awg%3aoauth%3a2.0%3aoob&scope=email%20https%3a%2f%2fwww.googleapis.com%2fauth%2fdocs.test%20https%3a%2f%2fwww.googleapis.com%2fauth%2fdrive%20https%3a%2f%2fwww.googleapis.com%2fauth%2fdrive.photos.readonly%20https%3a%2f%2fwww.googleapis.com%2fauth%2fpeopleapi.readonly&response_type=code\n",
            "\n",
            "Enter your authorization code:\n",
            "··········\n",
            "Mounted at /drive\n"
          ],
          "name": "stdout"
        }
      ]
    },
    {
      "cell_type": "markdown",
      "metadata": {
        "id": "3baN01ssqctL",
        "colab_type": "text"
      },
      "source": [
        "Some constants"
      ]
    },
    {
      "cell_type": "code",
      "metadata": {
        "id": "e5zUN8NWgGHW",
        "colab_type": "code",
        "colab": {}
      },
      "source": [
        "ROOT_DIR = '/content'\n",
        "number_of_mfcc = 40\n",
        "frames = 87\n",
        "genders = ['M','F']\n",
        "duration = 2 #seconds\n",
        "\n",
        "DATA_SOURCE = 'D' # Read files from the drive, to read data from crawled files again set it as 'U'\n",
        "CRAWL_DATA = False # set to true if you need to recrawl data from source website.\n",
        "MODEL_OPTION = 1\n",
        "# set your own google drive path where you need to save and later extract data\n",
        "drive_path = '/content/drive/My Drive/classification'\n",
        "\n",
        "STAT_COLUMNS = ['tonnetz_max',\n",
        "                'tonnetz_std',\n",
        "                'sc_max',\n",
        "                's_cent_min',\n",
        "                'sb_mean',\n",
        "                'rmse_max',\n",
        "                'rmse_std',\n",
        "                'roll_off_mean',\n",
        "                'rmse_mean',\n",
        "                'tonnetz_mean',\n",
        "                's_cent_mean',\n",
        "                'zero_crossing_min',\n",
        "                'sc_mean',\n",
        "                'sf_mean',\n",
        "                'sf_max',\n",
        "                'zero_crossing_mean',\n",
        "                'tonnetz_min',\n",
        "                'sf_std',\n",
        "                'roll_off_std',\n",
        "                'rmse_min',\n",
        "                'sb_min',\n",
        "                'sc_std',\n",
        "                'roll_off_max',\n",
        "                'roll_off_min',\n",
        "                's_cent_max',\n",
        "                'sb_std',\n",
        "                'sb_max',\n",
        "                'zero_crossing_max']"
      ],
      "execution_count": 403,
      "outputs": []
    },
    {
      "cell_type": "markdown",
      "metadata": {
        "id": "LoBiQRCv6vlU",
        "colab_type": "text"
      },
      "source": [
        "Crawl required data and extract them, then do transformation using different techniques."
      ]
    },
    {
      "cell_type": "code",
      "metadata": {
        "id": "C41ZBHxF2kDr",
        "colab_type": "code",
        "colab": {}
      },
      "source": [
        "# extract speakers data from  speakers.txt file included in the files\n",
        "def get_speakers_info(file_path,sub_path_name):\n",
        "  ids = []\n",
        "  genders = []\n",
        "  minutes = []\n",
        "  with open(file_path) as f:\n",
        "    for line in f:\n",
        "      if sub_path_name in line:\n",
        "        l = line.strip().split('|')\n",
        "        ids.append(l[0].strip())\n",
        "        genders.append(l[1].strip())\n",
        "        minutes.append(l[3])\n",
        "  speakers_info = pd.DataFrame({'ID':ids,'SEX':genders,'MINUTES':minutes})\n",
        "  speakers_info['ID'] = speakers_info['ID'].astype('int')\n",
        "  return speakers_info\n",
        "\n",
        "# get only speakers that have sound files in the extracted base_path.\n",
        "def get_existing_list(speakers_df,base_path):\n",
        "  id_list = os.listdir(base_path)\n",
        "  id_list = np.array(id_list).astype('int64')\n",
        "  id_list_df = pd.DataFrame(id_list)\n",
        "  id_list_df.columns = ['ID']\n",
        "  id_list_df = pd.merge(left=id_list_df,right=speakers_df,left_on = 'ID',right_on='ID')\n",
        "  \n",
        "  return id_list_df\n",
        "\n",
        "# prepare dictionary of speakers with their list of utterance files paths\n",
        "def prepare_files_list(files_list,base_path):\n",
        "  sound_info = {}\n",
        "  for id in files_list:\n",
        "    ids_audio_data = []\n",
        "    dir_list = os.listdir(os.path.join(base_path,str(id)))\n",
        "    for sub in dir_list:\n",
        "      files_list = os.listdir(os.path.join(os.path.join(base_path,str(id)),sub))\n",
        "      for file_name in files_list:\n",
        "        # try:\n",
        "        #   data,sample_rate = librosa.load(os.path.join(os.path.join(os.path.join(base_path,str(id)),sub),file_name))\n",
        "        #   sound_details = spectral_properties(data, sample_rate) \n",
        "        # except:\n",
        "        #   pass\n",
        "        if (file_name[-4:] == 'flac' or file_name[-3:] == 'wav'):\n",
        "          ids_audio_data.append(os.path.join(os.path.join(os.path.join(base_path,str(id)),sub),file_name))\n",
        "    sound_info[id] = ids_audio_data\n",
        "  return sound_info\n",
        "# prepare dataframe of speakers with their list of utterance files paths \n",
        "# files_per_speaker defines maximum number of files to extract for each speaker.\n",
        "\n",
        "def prepare_files_dataframe(base_path, speakers_df,max_files_per_speaker = 40):\n",
        "  # base_path = ROOT_DIR + '/train_clean/LibriSpeech/train-clean-100'\n",
        "\n",
        "  id_list_df = get_existing_list(speakers_df,base_path)\n",
        "  all_data = prepare_files_list(id_list_df['ID'].values,base_path)\n",
        "\n",
        "  ids_list = []\n",
        "  files_list = []\n",
        "  for key in all_data:\n",
        "    # only take maximum 40 files from each speaker\n",
        "    cnt = 0\n",
        "    for f in all_data[key]:\n",
        "      if cnt <max_files_per_speaker:\n",
        "        ids_list.append(key)\n",
        "        files_list.append(f)\n",
        "        cnt += 1\n",
        "      else:\n",
        "        break\n",
        "      \n",
        "\n",
        "  d = {'ID':ids_list,'file':files_list}\n",
        "  files_df = pd.DataFrame(d)\n",
        "\n",
        "  files_df = pd.merge(left=files_df,right=speakers_df,how='inner',left_on='ID',right_on='ID')\n",
        "\n",
        "  return files_df\n",
        "\n",
        "\n",
        "\n",
        "# Audio Files Augmentation\n",
        "# augment by pitch change\n",
        "def pitch_change(data, sampling_rate, pitch_factor):\n",
        "    return librosa.effects.pitch_shift(data, sampling_rate, pitch_factor)\n",
        "# add white noise\n",
        "def inject_noise(data, noise_factor):\n",
        "    noise = np.random.randn(len(data))\n",
        "    augmented_data = data + noise_factor * noise\n",
        "    # Cast back to same data type\n",
        "    augmented_data = augmented_data.astype(type(data[0]))\n",
        "    return augmented_data\n",
        "# add colored noise\n",
        "def inject_noise2(data, noise_factor):\n",
        "    beta = 1 # the exponent\n",
        "    samples = len(data) # number of samples to generate\n",
        "    y = cn.powerlaw_psd_gaussian(beta, samples)\n",
        "    augmented_data = data + noise_factor * y\n",
        "    # Cast back to same data type\n",
        "    augmented_data = augmented_data.astype(type(data[0]))\n",
        "    return augmented_data\n",
        "# generate augmented audio file from a given file and save in the base_dir\n",
        "def generate_augmented_sound(base_dir,file_name, src_data ,sampling_rate , pitch_factor = .005, noise_type = 1 ):\n",
        "  file_path = os.path.join(ROOT_DIR,base_dir)\n",
        "\n",
        "  # src_data,src_rate = librosa.load(wav_loc,duration=3)\n",
        "  s_data = pitch_change(src_data , sampling_rate , pitch_factor)\n",
        "  if noise_type == 1:\n",
        "    s_data = inject_noise(s_data,.02)\n",
        "  else:\n",
        "    s_data = inject_noise2(s_data,.02)\n",
        "  spectrum = librosa.stft(s_data)\n",
        "  reconstructed_audio = librosa.istft(spectrum)\n",
        "  librosa.output.write_wav(base_dir + '/' + file_name, reconstructed_audio, sampling_rate, norm=False)\n",
        "\n",
        "# delete augmented files\n",
        "def delete_augmented_data(aug_dir):\n",
        "  try:\n",
        "      if os.path.join(ROOT_DIR,aug_dir):\n",
        "        shutil.rmtree(os.path.join(ROOT_DIR,aug_dir))\n",
        "  except OSError as e:\n",
        "      print(\"Error: %s : %s\" % (aug_dir, e.strerror))\n",
        "\n",
        "# generate random augmented audio files and save them to noisy_data directory \n",
        "def augment_random_sound_files(df,aug_rate):\n",
        "  dir_male = ROOT_DIR + '/' + 'noisy_data/male'\n",
        "  os.makedirs(dir_male) \n",
        "  dir_female = ROOT_DIR + '/' + 'noisy_data/female'\n",
        "  os.makedirs(dir_female) \n",
        "\n",
        "  df = shuffle(df)\n",
        "  aug_size = int(aug_rate * df.shape[0])\n",
        "\n",
        "  aug_df = df[0:aug_size].reset_index(drop=True)\n",
        "\n",
        "  # after getting rnadom sound files we need to augment them in different files\n",
        "  for i in range(aug_df.shape[0]):\n",
        "    sound_file = aug_df.iloc[i]['file']\n",
        "    if aug_df.iloc[i]['SEX'] == 'M':\n",
        "      b_dir = dir_male\n",
        "      file_name = str(i) + '.wav'\n",
        "    elif aug_df.iloc[i]['SEX'] == 'F':\n",
        "      b_dir = dir_female \n",
        "      file_name = str(i) + '.wav'\n",
        "    \n",
        "    src_data, sampling_rate = librosa.load(aug_df.iloc[i]['file'])\n",
        "    if np.random.randint(0, 100) % 2 == 0:\n",
        "      noise_type = 1\n",
        "    else:\n",
        "      noise_type = 2\n",
        "      \n",
        "    generate_augmented_sound(b_dir,file_name, src_data ,sampling_rate,noise_type=noise_type)\n",
        "\n",
        "# get augmented data in a dataframe.\n",
        "def prepare_augmented_df(base_path,drive_path,url_file_selection = 'U'):\n",
        "  if url_file_selection == 'U':\n",
        "    dir_list = os.listdir(os.path.join(ROOT_DIR,base_path))\n",
        "    female_list = []\n",
        "    male_list = []\n",
        "    for d in dir_list:\n",
        "      for f in os.listdir(os.path.join(os.path.join(ROOT_DIR,base_path),d)):\n",
        "        if d == 'female':\n",
        "          female_list.append(os.path.join(os.path.join(os.path.join(ROOT_DIR,base_path),d),f))\n",
        "        elif d == 'male':\n",
        "          male_list.append(os.path.join(os.path.join(os.path.join(ROOT_DIR,base_path),d),f))\n",
        "    \n",
        "    female_df = pd.DataFrame({'ID':np.zeros(len(female_list)),'file':np.array(female_list)})\n",
        "    male_df = pd.DataFrame({'ID':np.ones(len(female_list)),'file':np.array(female_list)})\n",
        "\n",
        "    female_df['SEX'] = 'F'\n",
        "    male_df['SEX'] = 'M'\n",
        "\n",
        "    female_df['MINUTES'] = '00:15'\n",
        "    male_df['MINUTES'] = '00:15'\n",
        "\n",
        "  elif url_file_selection == 'D':\n",
        "    dir_list = os.listdir(os.path.join(drive_path,base_path))\n",
        "    female_list = []\n",
        "    male_list = []\n",
        "    for d in dir_list:\n",
        "      for f in os.listdir(os.path.join(os.path.join(drive_path,base_path),d)):\n",
        "        if d == 'female':\n",
        "          female_list.append(os.path.join(os.path.join(os.path.join(drive_path,base_path),d),f))\n",
        "        elif d == 'male':\n",
        "          male_list.append(os.path.join(os.path.join(os.path.join(drive_path,base_path),d),f))\n",
        "    \n",
        "    female_df = pd.DataFrame({'ID':np.zeros(len(female_list)),'file':np.array(female_list)})\n",
        "    male_df = pd.DataFrame({'ID':np.ones(len(female_list)),'file':np.array(female_list)})\n",
        "\n",
        "    female_df['SEX'] = 'F'\n",
        "    male_df['SEX'] = 'M'\n",
        "\n",
        "    female_df['MINUTES'] = '00:15'\n",
        "    male_df['MINUTES'] = '00:15'\n",
        "\n",
        "  \n",
        "\n",
        "  df = pd.concat([female_df,male_df],axis=0).reset_index(drop=True)\n",
        "\n",
        "  return df\n",
        "\n",
        "# concatenate dfs\n",
        "def concat_augmented_df(clean_df , aug_df):\n",
        "  return pd.concat([clean_df,aug_df],axis=0).reset_index(drop=True)\n",
        "\n",
        "# Process a sound file using MFCC\n",
        "def get_mfcc_properties(signal_data,sr):\n",
        "  signal = signal_data\n",
        "  # pad signals of max seconds duration\n",
        "  signal_length = duration * sr\n",
        "  length = signal.shape[0]\n",
        "  pad_length = signal_length - length\n",
        "  if pad_length > 0:\n",
        "    padding = np.zeros(pad_length)\n",
        "    signal = np.hstack((signal, padding))\n",
        "  mfcc_feats = librosa.feature.mfcc(signal, sr, n_mfcc=number_of_mfcc)\n",
        "\n",
        "  return mfcc_feats\n",
        "\n",
        "\n",
        "# get energy levels of signal\n",
        "def get_energy_levels(signal_data,sr):\n",
        "  signal = signal_data\n",
        "  signal_length = duration * sr\n",
        "  length = signal.shape[0]\n",
        "  pad_length = signal_length - length\n",
        "  if pad_length > 0:\n",
        "    padding = np.zeros(pad_length)\n",
        "    signal = np.hstack((signal, padding))\n",
        "  X = librosa.stft(signal)\n",
        "  #converting into energy levels(dB)\n",
        "  Xdb = librosa.amplitude_to_db(abs(X))\n",
        "  return Xdb\n",
        "\n",
        "# signals statistical information of sepctral and frequencies features.\n",
        "def get_signal_stats(data,sr):\n",
        "  # Zero crossing rate  \n",
        "  zc = librosa.feature.zero_crossing_rate(data)\n",
        "  zc_stats = {'zero_crossing_mean':zc.mean().round(5),'zero_crossing_min':zc.min().round(5),'zero_crossing_max':zc.max().round(5),'zero_crossing_std':zc.std().round(5)}\n",
        "\n",
        "  # tonal centroid features \n",
        "  y = librosa.effects.harmonic(data)\n",
        "  tc = librosa.feature.tonnetz(y=y, sr=sr)\n",
        "  tc_stats = {'tonnetz_mean':tc.mean().round(5),'tonnetz_min':tc.min().round(5),'tonnetz_max':tc.max().round(5),'tonnetz_std':tc.std().round(5)}\n",
        "\n",
        "  # roll-off frequency features\n",
        "  ro = librosa.feature.spectral_rolloff(y=data, sr=sr, roll_percent=0.95)\n",
        "  ro_stats = {'roll_off_mean':ro.mean().round(5),'roll_off_min':ro.min().round(5),'roll_off_max':ro.max().round(5),'roll_off_std':ro.std().round(5)}\n",
        "\n",
        "  # spectral flatness (measure to quantify how much noise-like a sound is)\n",
        "  sf = librosa.feature.spectral_flatness(y=data)\n",
        "  sf_stats = {'sf_mean':sf.mean().round(5),'sf_min':sf.min().round(5),'sf_max':sf.max().round(5),'sf_std':sf.std().round(5)}\n",
        "  \n",
        " \n",
        "  # Spectral Contrast\n",
        "  S = np.abs(librosa.stft(data))\n",
        "  sc = librosa.feature.spectral_contrast(S=S, sr=sr)\n",
        "  sc_stats = {'sc_mean':sc.mean().round(5),'sc_min':sc.min().round(5),'sc_max':sc.max().round(5),'sc_std':sc.std().round(5)}\n",
        "\n",
        "  # Spectral Bandwidth\n",
        "  if_gram, D = librosa.ifgram(y)\n",
        "  sb = librosa.feature.spectral_bandwidth(S=np.abs(D), freq=if_gram)\n",
        "  sb_stats = {'sb_mean':sb.mean().round(5),'sb_min':sb.min().round(5),'sb_max':sb.max().round(5),'sb_std':sb.std().round(5)}\n",
        "\n",
        "  # spectral centroid\n",
        "  s_cent = librosa.feature.spectral_centroid(y=data, sr=sr)\n",
        "  s_cent_stats = {'s_cent_mean':s_cent.mean().round(5),'s_cent_min':s_cent.min().round(5),'s_cent_max':s_cent.max().round(5),'s_cent_std':s_cent.std().round(5)}\n",
        "  # RMSE\n",
        "  rmse = librosa.feature.rmse(y=data)\n",
        "  rmse_stats = {'rmse_mean':rmse.mean().round(5),'rmse_min':rmse.min().round(5),'rmse_max':rmse.max().round(5),'rmse_std':rmse.std().round(5)}\n",
        "  return zc_stats,tc_stats,ro_stats,sf_stats,sc_stats,sb_stats,s_cent_stats,rmse_stats\n",
        "\n",
        "# this prepares processed sound data for given files list.\n",
        "def prepare_data(df,mfcc_energy = 'M'): \n",
        "  X_data = []\n",
        "  for i in range(df.shape[0]):\n",
        "    sound_data, sr = librosa.load(df.iloc[i]['file'],duration=duration)\n",
        "    # get mfcc data and reshape the array to be 3 dimentional with frames.\n",
        "    sc = StandardScaler()\n",
        "    if mfcc_energy == 'M':\n",
        "      X_data.append(np.reshape(sc.fit_transform(get_mfcc_properties(sound_data,sr)),[number_of_mfcc,frames,1]))\n",
        "    else:\n",
        "      Xdb = sc.fit_transform(get_energy_levels(sound_data,sr))\n",
        "      X_data.append(np.reshape(Xdb,[Xdb.shape[0],Xdb.shape[1],1]))\n",
        "    labels = [genders.index(x) for x in df['SEX'].to_list()]\n",
        "  return X_data , labels\n",
        "\n",
        "\n",
        "# this extract statistical features of :\n",
        "#   - zero crossing rates\n",
        "#   - tonal centroid\n",
        "#   - roll-off frequency\n",
        "#   - spectral flatness\n",
        "#   - Spectral Contrast\n",
        "#   - Spectral Bandwidth\n",
        "#   - spectral centroid\n",
        "#   - RMSE\n",
        "# for sound data in the given files list.\n",
        "# if url_file_selection = 'U' then prepare data from scratch\n",
        "# if url_file_selection = 'D' then get already prepared file from specified path.\n",
        "def prepare_stats_df(df,url_file_selection='D',df_path=''):\n",
        "  if url_file_selection == 'U':\n",
        "    k = 0\n",
        "    zero_crossing_mean = []\n",
        "    zero_crossing_min = []\n",
        "    zero_crossing_max = []\n",
        "    zero_crossing_std = []\n",
        "\n",
        "    tonnetz_mean = []\n",
        "    tonnetz_min = []\n",
        "    tonnetz_max = []\n",
        "    tonnetz_std = []\n",
        "\n",
        "    roll_off_mean = []\n",
        "    roll_off_min = []\n",
        "    roll_off_max = []\n",
        "    roll_off_std = []\n",
        "\n",
        "    sf_mean = []\n",
        "    sf_min = []\n",
        "    sf_max = []\n",
        "    sf_std = []\n",
        "\n",
        "    sc_mean = []\n",
        "    sc_min = []\n",
        "    sc_max = []\n",
        "    sc_std = []\n",
        "\n",
        "    sb_mean = []\n",
        "    sb_min = []\n",
        "    sb_max = []\n",
        "    sb_std = []\n",
        "\n",
        "    s_cent_mean = []\n",
        "    s_cent_min = []\n",
        "    s_cent_max = []\n",
        "    s_cent_std = []\n",
        "\n",
        "    rmse_mean = []\n",
        "    rmse_min = []\n",
        "    rmse_max = []\n",
        "    rmse_std = []\n",
        "\n",
        "    gender = []\n",
        "\n",
        "    print('5- ' + str(len(df)))\n",
        "    for i in range(df.shape[0]):\n",
        "      y, sr = librosa.load(df.iloc[i]['file'],duration=duration)\n",
        "      zc_stats,tc_stats,ro_stats,sf_stats,sc_stats,sb_stats,s_cent_stats,rmse_stats = get_signal_stats(y,sr)\n",
        "      if k == 0:\n",
        "        feats = []\n",
        "        for key in zc_stats:\n",
        "          feats.append(key)\n",
        "        for key in tc_stats:\n",
        "          feats.append(key)\n",
        "        for key in ro_stats:\n",
        "          feats.append(key)\n",
        "        for key in sf_stats:\n",
        "          feats.append(key)\n",
        "        for key in sc_stats:\n",
        "          feats.append(key)\n",
        "        for key in sb_stats:\n",
        "          feats.append(key)\n",
        "        for key in s_cent_stats:\n",
        "          feats.append(key)\n",
        "        for key in rmse_stats:\n",
        "          feats.append(key)\n",
        "        k += 1\n",
        "\n",
        "        feats.append('SEX')\n",
        "\n",
        "      zero_crossing_mean.append(zc_stats['zero_crossing_mean'])\n",
        "      zero_crossing_min.append(zc_stats['zero_crossing_min'])\n",
        "      zero_crossing_max.append(zc_stats['zero_crossing_max'])\n",
        "      zero_crossing_std.append(zc_stats['zero_crossing_std'])\n",
        "\n",
        "      tonnetz_mean.append(tc_stats['tonnetz_mean'])\n",
        "      tonnetz_min.append(tc_stats['tonnetz_min'])\n",
        "      tonnetz_max.append(tc_stats['tonnetz_max'])\n",
        "      tonnetz_std.append(tc_stats['tonnetz_std'])\n",
        "\n",
        "      roll_off_mean.append(ro_stats['roll_off_mean'])\n",
        "      roll_off_min.append(ro_stats['roll_off_min'])\n",
        "      roll_off_max.append(ro_stats['roll_off_max'])\n",
        "      roll_off_std.append(ro_stats['roll_off_std'])\n",
        "\n",
        "      sf_mean.append(sf_stats['sf_mean'])\n",
        "      sf_min.append(sf_stats['sf_min'])\n",
        "      sf_max.append(sf_stats['sf_max'])\n",
        "      sf_std.append(sf_stats['sf_std'])\n",
        "\n",
        "      sc_mean.append(sc_stats['sc_mean'])\n",
        "      sc_min.append(sc_stats['sc_min'])\n",
        "      sc_max.append(sc_stats['sc_max'])\n",
        "      sc_std.append(sc_stats['sc_std'])\n",
        "\n",
        "      sb_mean.append(sb_stats['sb_mean'])\n",
        "      sb_min.append(sb_stats['sb_min'])\n",
        "      sb_max.append(sb_stats['sb_max'])\n",
        "      sb_std.append(sb_stats['sb_std'])\n",
        "\n",
        "      s_cent_mean.append(s_cent_stats['s_cent_mean'])\n",
        "      s_cent_min.append(s_cent_stats['s_cent_min'])\n",
        "      s_cent_max.append(s_cent_stats['s_cent_max'])\n",
        "      s_cent_std.append(s_cent_stats['s_cent_std'])\n",
        "\n",
        "      rmse_mean.append(rmse_stats['rmse_mean'])\n",
        "      rmse_min.append(rmse_stats['rmse_min'])\n",
        "      rmse_max.append(rmse_stats['rmse_max'])\n",
        "      rmse_std.append(rmse_stats['rmse_std'])\n",
        "\n",
        "      gender.append(df.iloc[i]['SEX'])\n",
        "\n",
        "    data_df = pd.DataFrame(np.column_stack([zero_crossing_mean,\n",
        "                                            zero_crossing_min,\n",
        "                                            zero_crossing_max,\n",
        "                                            zero_crossing_std,\n",
        "                                            tonnetz_mean,\n",
        "                                            tonnetz_min,\n",
        "                                            tonnetz_max,\n",
        "                                            tonnetz_std,\n",
        "                                            roll_off_mean,\n",
        "                                            roll_off_min,\n",
        "                                            roll_off_max,\n",
        "                                            roll_off_std,\n",
        "                                            sf_mean,\n",
        "                                            sf_min,\n",
        "                                            sf_max,\n",
        "                                            sf_std,\n",
        "                                            sc_mean,\n",
        "                                            sc_min,\n",
        "                                            sc_max,\n",
        "                                            sc_std,\n",
        "                                            sb_mean,\n",
        "                                            sb_min,\n",
        "                                            sb_max,\n",
        "                                            sb_std,\n",
        "                                            s_cent_mean,\n",
        "                                            s_cent_min,\n",
        "                                            s_cent_max,\n",
        "                                            s_cent_std,\n",
        "                                            rmse_mean,\n",
        "                                            rmse_min,\n",
        "                                            rmse_max,\n",
        "                                            rmse_std,\n",
        "                                            gender])\n",
        "    , columns = feats)\n",
        "  else:\n",
        "    data_df = pd.read_csv(os.path.join(drive_path,df_path))\n",
        "\n",
        "  return data_df\n",
        "\n",
        "def prepare_single_stats_df(sound_file):\n",
        "    \n",
        "    k = 0\n",
        "    zero_crossing_mean = []\n",
        "    zero_crossing_min = []\n",
        "    zero_crossing_max = []\n",
        "    zero_crossing_std = []\n",
        "\n",
        "    tonnetz_mean = []\n",
        "    tonnetz_min = []\n",
        "    tonnetz_max = []\n",
        "    tonnetz_std = []\n",
        "\n",
        "    roll_off_mean = []\n",
        "    roll_off_min = []\n",
        "    roll_off_max = []\n",
        "    roll_off_std = []\n",
        "\n",
        "    sf_mean = []\n",
        "    sf_min = []\n",
        "    sf_max = []\n",
        "    sf_std = []\n",
        "\n",
        "    sc_mean = []\n",
        "    sc_min = []\n",
        "    sc_max = []\n",
        "    sc_std = []\n",
        "\n",
        "    sb_mean = []\n",
        "    sb_min = []\n",
        "    sb_max = []\n",
        "    sb_std = []\n",
        "\n",
        "    s_cent_mean = []\n",
        "    s_cent_min = []\n",
        "    s_cent_max = []\n",
        "    s_cent_std = []\n",
        "\n",
        "    rmse_mean = []\n",
        "    rmse_min = []\n",
        "    rmse_max = []\n",
        "    rmse_std = []\n",
        "\n",
        "    gender = []\n",
        "\n",
        "    y, sr = librosa.load(sound_file,duration=duration)\n",
        "    zc_stats,tc_stats,ro_stats,sf_stats,sc_stats,sb_stats,s_cent_stats,rmse_stats = get_signal_stats(y,sr)\n",
        "    if k == 0:\n",
        "        feats = []\n",
        "        for key in zc_stats:\n",
        "          feats.append(key)\n",
        "        for key in tc_stats:\n",
        "          feats.append(key)\n",
        "        for key in ro_stats:\n",
        "          feats.append(key)\n",
        "        for key in sf_stats:\n",
        "          feats.append(key)\n",
        "        for key in sc_stats:\n",
        "          feats.append(key)\n",
        "        for key in sb_stats:\n",
        "          feats.append(key)\n",
        "        for key in s_cent_stats:\n",
        "          feats.append(key)\n",
        "        for key in rmse_stats:\n",
        "          feats.append(key)\n",
        "        k += 1\n",
        "\n",
        "    zero_crossing_mean.append(zc_stats['zero_crossing_mean'])\n",
        "    zero_crossing_min.append(zc_stats['zero_crossing_min'])\n",
        "    zero_crossing_max.append(zc_stats['zero_crossing_max'])\n",
        "    zero_crossing_std.append(zc_stats['zero_crossing_std'])\n",
        "\n",
        "    tonnetz_mean.append(tc_stats['tonnetz_mean'])\n",
        "    tonnetz_min.append(tc_stats['tonnetz_min'])\n",
        "    tonnetz_max.append(tc_stats['tonnetz_max'])\n",
        "    tonnetz_std.append(tc_stats['tonnetz_std'])\n",
        "\n",
        "    roll_off_mean.append(ro_stats['roll_off_mean'])\n",
        "    roll_off_min.append(ro_stats['roll_off_min'])\n",
        "    roll_off_max.append(ro_stats['roll_off_max'])\n",
        "    roll_off_std.append(ro_stats['roll_off_std'])\n",
        "\n",
        "    sf_mean.append(sf_stats['sf_mean'])\n",
        "    sf_min.append(sf_stats['sf_min'])\n",
        "    sf_max.append(sf_stats['sf_max'])\n",
        "    sf_std.append(sf_stats['sf_std'])\n",
        "\n",
        "    sc_mean.append(sc_stats['sc_mean'])\n",
        "    sc_min.append(sc_stats['sc_min'])\n",
        "    sc_max.append(sc_stats['sc_max'])\n",
        "    sc_std.append(sc_stats['sc_std'])\n",
        "\n",
        "    sb_mean.append(sb_stats['sb_mean'])\n",
        "    sb_min.append(sb_stats['sb_min'])\n",
        "    sb_max.append(sb_stats['sb_max'])\n",
        "    sb_std.append(sb_stats['sb_std'])\n",
        "\n",
        "    s_cent_mean.append(s_cent_stats['s_cent_mean'])\n",
        "    s_cent_min.append(s_cent_stats['s_cent_min'])\n",
        "    s_cent_max.append(s_cent_stats['s_cent_max'])\n",
        "    s_cent_std.append(s_cent_stats['s_cent_std'])\n",
        "\n",
        "    rmse_mean.append(rmse_stats['rmse_mean'])\n",
        "    rmse_min.append(rmse_stats['rmse_min'])\n",
        "    rmse_max.append(rmse_stats['rmse_max'])\n",
        "    rmse_std.append(rmse_stats['rmse_std'])\n",
        "\n",
        "    data_df = pd.DataFrame(np.column_stack([zero_crossing_mean,\n",
        "                                            zero_crossing_min,\n",
        "                                            zero_crossing_max,\n",
        "                                            zero_crossing_std,\n",
        "                                            tonnetz_mean,\n",
        "                                            tonnetz_min,\n",
        "                                            tonnetz_max,\n",
        "                                            tonnetz_std,\n",
        "                                            roll_off_mean,\n",
        "                                            roll_off_min,\n",
        "                                            roll_off_max,\n",
        "                                            roll_off_std,\n",
        "                                            sf_mean,\n",
        "                                            sf_min,\n",
        "                                            sf_max,\n",
        "                                            sf_std,\n",
        "                                            sc_mean,\n",
        "                                            sc_min,\n",
        "                                            sc_max,\n",
        "                                            sc_std,\n",
        "                                            sb_mean,\n",
        "                                            sb_min,\n",
        "                                            sb_max,\n",
        "                                            sb_std,\n",
        "                                            s_cent_mean,\n",
        "                                            s_cent_min,\n",
        "                                            s_cent_max,\n",
        "                                            s_cent_std,\n",
        "                                            rmse_mean,\n",
        "                                            rmse_min,\n",
        "                                            rmse_max,\n",
        "                                            rmse_std\n",
        "                                            ])\n",
        "    , columns = feats)\n",
        "\n",
        "    return data_df\n",
        "\n",
        "def split_datasets(df,train_per=.7,valid_per=.2,test_per=.1):\n",
        "  df = shuffle(df)\n",
        "  valid_size = int(valid_per * df.shape[0])\n",
        "  test_size = int(test_per * df.shape[0])\n",
        "  train_size = int(train_per * df.shape[0])\n",
        "  train_df = df[0:train_size].reset_index(drop=True)\n",
        "  valid_df = df[train_df.shape[0]:train_df.shape[0]+valid_size].reset_index(drop=True)\n",
        "  test_df = df[(train_df.shape[0]+valid_df.shape[0]):].reset_index(drop=True)\n",
        "\n",
        "  return train_df , valid_df , test_df\n",
        "\n",
        "def save_extracted_features(files_path,file_name, data):\n",
        "  with open(os.path.join(files_path,file_name), 'wb') as f:\n",
        "    np.save(f, data)\n",
        "  \n",
        "\n",
        "def get_extracted_features(files_path,file_name):\n",
        "  data = np.load(os.path.join(files_path,file_name))\n",
        "  return data\n",
        "\n",
        "# If url_file_selection 'U' crawl data from the url and unzip them.\n",
        "# otherwise extract processed data from the drive.\n",
        "\n",
        "def get_files_df(url_file_selection = 'U', drive_path=drive_path,augment_files = False,recrawl_data = False):\n",
        "  if url_file_selection == 'U':\n",
        "    # extract training data\n",
        "    !wget \"http://www.openslr.org/resources/12/train-clean-100.tar.gz\"\n",
        "    t = tarfile.open(\"/content/train-clean-100.tar.gz\")\n",
        "    t.extractall('train_clean')\n",
        "\n",
        "    # Extract test data for different speakers.\n",
        "\n",
        "    !wget \"http://www.openslr.org/resources/12/test-other.tar.gz\"\n",
        "    t = tarfile.open(\"/content/test-other.tar.gz\")\n",
        "    t.extractall('test_other') \n",
        "\n",
        "    base_path = ROOT_DIR + '/train_clean/LibriSpeech/train-clean-100'\n",
        "    speakers_file_path = \"/content/train_clean/LibriSpeech\"\n",
        "    print(\"Extracting speakers info...\")\n",
        "    speakers_df = get_speakers_info(os.path.join(speakers_file_path,\"SPEAKERS.TXT\"),'train-clean-') \n",
        "    print(\"Preparing files Dataframe...\")\n",
        "    files_df = prepare_files_dataframe(base_path,speakers_df,max_files_per_speaker = 40)\n",
        "    print(\"Done.\")\n",
        "\n",
        "    if augment_files:\n",
        "      print(\"Adding augmented data...\")\n",
        "      delete_augmented_data('noisy_data')\n",
        "      augment_random_sound_files(files_df,.1)\n",
        "      files_df = concat_augmented_df(files_df,prepare_augmented_df('noisy_data'))\n",
        "      print(\"Done Augmentation.\")\n",
        "\n",
        "  else:\n",
        "    if recrawl_data:\n",
        "      !wget \"http://www.openslr.org/resources/12/train-clean-100.tar.gz\"\n",
        "      t = tarfile.open(\"/content/train-clean-100.tar.gz\")\n",
        "      t.extractall('train_clean')\n",
        "\n",
        "      # Extract test data for different speakers.\n",
        "\n",
        "      !wget \"http://www.openslr.org/resources/12/test-other.tar.gz\"\n",
        "      t = tarfile.open(\"/content/test-other.tar.gz\")\n",
        "      t.extractall('test_other')\n",
        "    files_df = pd.read_csv(os.path.join(drive_path,'files_df.csv'))\n",
        "  \n",
        "  return files_df\n",
        "    # # Procesing audio data\n",
        "\n",
        "def extract_data(files_df,url_file_selection = 'U',extract_type='M',drive_path=drive_path):\n",
        "  if url_file_selection == 'U':\n",
        "    print(\"Splitting files and Processing Audio data...\")\n",
        "    # first split utterance files into train, valid and test datasets\n",
        "    train_df , valid_df , test_df = split_datasets(files_df)\n",
        "\n",
        "    # # extract mfcc features for train files\n",
        "    X_train, y_train = prepare_data(train_df,extract_type)\n",
        "    print(\"Done Train data processing\")\n",
        "\n",
        "    print(\"Processing Valid data...\")\n",
        "    # # extract mfcc features for valid files\n",
        "    X_valid, y_valid = prepare_data(valid_df,extract_type)\n",
        "    print(\"Done Valid data processing\")\n",
        "\n",
        "    print(\"Processing Test data...\")\n",
        "    # # extract mfcc features for test files\n",
        "    X_test, y_test = prepare_data(test_df,extract_type)\n",
        "    print(\"Done Test data processing\")\n",
        "  #Drive\n",
        "  elif url_file_selection == 'D':\n",
        "    \n",
        "    if extract_type == 'M':\n",
        "      X_train = get_extracted_features(drive_path,'train.npy')\n",
        "      y_train = get_extracted_features(drive_path,'train_labels.npy')\n",
        "      X_valid = get_extracted_features(drive_path,'valid.npy')\n",
        "      y_valid = get_extracted_features(drive_path,'valid_labels.npy')\n",
        "      X_test = get_extracted_features(drive_path,'test.npy')\n",
        "      y_test = get_extracted_features(drive_path,'test_labels.npy')\n",
        "    elif extract_type == 'E':\n",
        "      X_train = get_extracted_features(drive_path,'train_e.npy')\n",
        "      y_train = get_extracted_features(drive_path,'train_labels_e.npy')\n",
        "      X_valid = get_extracted_features(drive_path,'valid_e.npy')\n",
        "      y_valid = get_extracted_features(drive_path,'valid_labels_e.npy')\n",
        "      X_test = get_extracted_features(drive_path,'test_e.npy')\n",
        "      y_test = get_extracted_features(drive_path,'test_labels_e.npy')\n",
        "\n",
        "    # get files metadata\n",
        "    # files_df = pd.read_csv(os.path.join(drive_path,'files_df.csv'))\n",
        "\n",
        "  return X_train, y_train , X_valid, y_valid, X_test, y_test, files_df\n",
        "\n",
        "\n",
        "\n",
        "\n",
        "def save_data(X_train,y_train,X_valid,y_valid,X_test,y_test,files_df,mfcc_energy='M'):\n",
        "  \n",
        "    print(\"Saving Processed data\")\n",
        "    # save extracted features of train data to my drive\n",
        "    if mfcc_energy == 'M':\n",
        "      save_extracted_features(drive_path,'train.npy',np.array(X_train))\n",
        "      save_extracted_features(drive_path,'train_labels.npy',np.array(y_train))\n",
        "    else:\n",
        "      save_extracted_features(drive_path,'train_e.npy',np.array(X_train))\n",
        "      save_extracted_features(drive_path,'train_labels_e.npy',np.array(y_train))\n",
        "    \n",
        "    # save extracted features of valid data to my drive\n",
        "    if mfcc_energy == 'M':\n",
        "      save_extracted_features(drive_path,'valid.npy',np.array(X_valid))\n",
        "      save_extracted_features(drive_path,'valid_labels.npy',np.array(y_valid))\n",
        "    else:\n",
        "      save_extracted_features(drive_path,'valid_e.npy',np.array(X_valid))\n",
        "      save_extracted_features(drive_path,'valid_labels_e.npy',np.array(y_valid))\n",
        "    # save extracted features of test data to my drive\n",
        "    if mfcc_energy == 'M':\n",
        "      save_extracted_features(drive_path,'test.npy',np.array(X_test))\n",
        "      save_extracted_features(drive_path,'test_labels.npy',np.array(y_test))\n",
        "    else:\n",
        "      save_extracted_features(drive_path,'test_e.npy',np.array(X_test))\n",
        "      save_extracted_features(drive_path,'test_labels_e.npy',np.array(y_test))\n",
        "\n",
        "    # save files metadata\n",
        "    files_df.to_csv(os.path.join(drive_path,'files_df.csv'))\n",
        "    print(\"Done.\")\n",
        "\n",
        "# Prepares a dataframe of test data for other speakers\n",
        "#  if processing_type = 'S' then audio data will be transormed for approach 1 using feats. stats.\n",
        "#  if processing_type = 'M' the audio data will be transormed for approach 2 using mfcc feats.\n",
        "def prepare_other_test_data(test_dir,speakers_file_path,sub_dir_name,processing_type='S'):\n",
        "  \n",
        "\n",
        "  speakers_df_test = get_speakers_info(os.path.join(ROOT_DIR ,speakers_file_path),sub_dir_name)\n",
        "  print('0-' + str(speakers_df_test.shape[0]))\n",
        "  base_path = os.path.join(os.path.join(ROOT_DIR , test_dir) , sub_dir_name)\n",
        "  print('1-' + base_path)\n",
        "  id_list_df = get_existing_list(speakers_df_test,base_path)\n",
        "\n",
        "  print('2-' + str(id_list_df.shape[0]))\n",
        "\n",
        "  all_data = prepare_files_list(id_list_df['ID'].values,base_path)\n",
        "\n",
        "  print('3-' + str(len(all_data)))\n",
        "\n",
        "  ids_list = []\n",
        "  files_list = []\n",
        "  for key in all_data:\n",
        "    # only take maximum 40 files from each speaker\n",
        "    cnt = 0\n",
        "    for f in all_data[key]:\n",
        "      if cnt <40:\n",
        "        ids_list.append(key)\n",
        "        files_list.append(f)\n",
        "        cnt += 1\n",
        "      else:\n",
        "        break\n",
        "      \n",
        "\n",
        "  d = {'ID':ids_list,'file':files_list}\n",
        "  files_df = pd.DataFrame(d)\n",
        "\n",
        "  files_df = pd.merge(left=files_df,right=speakers_df_test,how='inner',left_on='ID',right_on='ID')\n",
        "\n",
        "\n",
        "  print('4-' + str(len(files_df)))\n",
        "\n",
        "  if processing_type == 'S':\n",
        "    data_df = prepare_stats_df(files_df,url_file_selection='U')\n",
        "    \n",
        "    data_df.to_csv(os.path.join(drive_path,'data_stats_df.csv'))\n",
        "    gender_labels = data_df['SEX']\n",
        "    labels = [genders.index(x) for x in gender_labels]\n",
        "    data_df = data_df.drop(columns= ['SEX'])\n",
        "    return data_df , labels\n",
        "  elif processing_type == 'M':\n",
        "    X_test, y_test = prepare_data(files_df)\n",
        "    return X_test , y_test\n",
        "\n",
        "def save_model_json(dir_path,model_obj,model_name):\n",
        "  #Save the model structure and weights\n",
        "  model_json = model_obj.to_json()\n",
        "  with open(os.path.join(dir_path, (model_name + '.json')), \"w\") as json_file:\n",
        "      json_file.write(model_json)\n",
        "  # serialize weights to HDF5\n",
        "  model_obj.save_weights(os.path.join(dir_path,(model_name +'.h5')))\n",
        "\n",
        "def load_model_json(dir_path,model_name):\n",
        "  json_file = open(os.path.join(dir_path, (model_name + '.json')), 'r')\n",
        "  loaded_model_json = json_file.read()\n",
        "  json_file.close()\n",
        "  loaded_model = model_from_json(loaded_model_json)\n",
        "  loaded_model.load_weights(os.path.join(dir_path, (model_name + '.h5')))\n",
        "\n",
        "  return loaded_model\n",
        "\n",
        "def predict_gender(dir_path,file_name,model_option=MODEL_OPTION):\n",
        "\n",
        "    sound_data, sr = librosa.load(os.path.join(dir_path,file_name),duration=duration)\n",
        "    mfcc_data = get_mfcc_properties(sound_data,sr)\n",
        "    \n",
        "    # model object\n",
        "    # model = model2()\n",
        "    \n",
        "    model = load_model_json(dir_path=drive_path,model_name='model_mfcc'+str(model_option))\n",
        "    if model_option == 1:\n",
        "      pred = model.predict(np.reshape(mfcc_data,[1,number_of_mfcc*frames,1]))\n",
        "    else:\n",
        "      pred = model.predict(np.reshape(mfcc_data,[1,number_of_mfcc,frames,1]))\n",
        "\n",
        "    return genders[int(round(pred.reshape(-1)[0]))]\n"
      ],
      "execution_count": 458,
      "outputs": []
    },
    {
      "cell_type": "markdown",
      "metadata": {
        "id": "DTdY4RCv7sSb",
        "colab_type": "text"
      },
      "source": [
        "## Extract Audio files"
      ]
    },
    {
      "cell_type": "code",
      "metadata": {
        "id": "9Ho257_k-7f7",
        "colab_type": "code",
        "colab": {}
      },
      "source": [
        "# Prepare audio files dataframe \n",
        "# url_file_selection = 'D' to read already prepared files list from the drive.\n",
        "# if you want to read from URL just pass url_file_selection = 'U'\n",
        "# drive_path : the path in your drive.\n",
        "# augment_files : if you need to augment New Data pass it as True otherwise False.\n",
        "# recrawl_data : only imortant if you pass url_file_selection as 'D', \n",
        "#   if you want to crawl the files from the website if they are not in the current directory.\n",
        "\n",
        "def extract_files(url_file_selection=DATA_SOURCE,drive_path=drive_path,augment_files=False,recrawl_data=True):\n",
        "\n",
        "  files_df = get_files_df(url_file_selection = url_file_selection, drive_path=drive_path,augment_files = augment_files,recrawl_data=recrawl_data)\n",
        "\n",
        "  # remove noisy data entries\n",
        "  files_df = files_df[(files_df['ID'] != 0) ].reset_index(drop=True)\n",
        "  files_df = files_df[(files_df['ID'] != 1) ].reset_index(drop=True)\n",
        "  if 'Unnamed: 0' in files_df.columns:\n",
        "    files_df.drop(columns=['Unnamed: 0'],inplace=True)\n",
        "  if not augment_files:\n",
        "    aug_df = prepare_augmented_df(base_path='noisy_data',drive_path=drive_path,url_file_selection = 'D')\n",
        "    files_df = concat_augmented_df(files_df , aug_df)\n",
        "  \n",
        "  return files_df\n",
        "  \n",
        "\n"
      ],
      "execution_count": 405,
      "outputs": []
    },
    {
      "cell_type": "markdown",
      "metadata": {
        "id": "VnEimsLrKMLb",
        "colab_type": "text"
      },
      "source": [
        "Get all audio files for different speakers,\n",
        "I have taken Maximum random 40 files for each speacker"
      ]
    },
    {
      "cell_type": "code",
      "metadata": {
        "id": "gVr1w9mt-wCu",
        "colab_type": "code",
        "colab": {}
      },
      "source": [
        "files_df = extract_files(url_file_selection=DATA_SOURCE,drive_path=drive_path,augment_files=False,recrawl_data=False)"
      ],
      "execution_count": 406,
      "outputs": []
    },
    {
      "cell_type": "markdown",
      "metadata": {
        "id": "8Ur7LgnyWCMP",
        "colab_type": "text"
      },
      "source": [
        "## **Exploratory Data Analysis**"
      ]
    },
    {
      "cell_type": "markdown",
      "metadata": {
        "id": "Akfbce8bWH27",
        "colab_type": "text"
      },
      "source": [
        "As I have taken duration of 2 seconds from all sound files then all records will have actual 2 seconds of sound data to train on."
      ]
    },
    {
      "cell_type": "code",
      "metadata": {
        "id": "xDHEkNPf0WVu",
        "colab_type": "code",
        "colab": {
          "base_uri": "https://localhost:8080/",
          "height": 35
        },
        "outputId": "18dc91a0-f521-4ccb-c57c-7ba2af475503"
      },
      "source": [
        "files_df.shape"
      ],
      "execution_count": 407,
      "outputs": [
        {
          "output_type": "execute_result",
          "data": {
            "text/plain": [
              "(11052, 4)"
            ]
          },
          "metadata": {
            "tags": []
          },
          "execution_count": 407
        }
      ]
    },
    {
      "cell_type": "markdown",
      "metadata": {
        "id": "8LlNMnffWg59",
        "colab_type": "text"
      },
      "source": [
        "Lets explore how the classes (genders) distributed in our data"
      ]
    },
    {
      "cell_type": "code",
      "metadata": {
        "id": "LQAiigKnWaN1",
        "colab_type": "code",
        "colab": {}
      },
      "source": [
        "gender_counts = files_df[['SEX','ID']].groupby('SEX').count().reset_index().rename(columns = {'ID':'CNT'})"
      ],
      "execution_count": 408,
      "outputs": []
    },
    {
      "cell_type": "code",
      "metadata": {
        "id": "yNOm4Y_UYEYJ",
        "colab_type": "code",
        "colab": {
          "base_uri": "https://localhost:8080/",
          "height": 110
        },
        "outputId": "d7b9990e-bc30-41b2-d155-d49d82e6da46"
      },
      "source": [
        "gender_counts"
      ],
      "execution_count": 409,
      "outputs": [
        {
          "output_type": "execute_result",
          "data": {
            "text/html": [
              "<div>\n",
              "<style scoped>\n",
              "    .dataframe tbody tr th:only-of-type {\n",
              "        vertical-align: middle;\n",
              "    }\n",
              "\n",
              "    .dataframe tbody tr th {\n",
              "        vertical-align: top;\n",
              "    }\n",
              "\n",
              "    .dataframe thead th {\n",
              "        text-align: right;\n",
              "    }\n",
              "</style>\n",
              "<table border=\"1\" class=\"dataframe\">\n",
              "  <thead>\n",
              "    <tr style=\"text-align: right;\">\n",
              "      <th></th>\n",
              "      <th>SEX</th>\n",
              "      <th>CNT</th>\n",
              "    </tr>\n",
              "  </thead>\n",
              "  <tbody>\n",
              "    <tr>\n",
              "      <th>0</th>\n",
              "      <td>F</td>\n",
              "      <td>5513</td>\n",
              "    </tr>\n",
              "    <tr>\n",
              "      <th>1</th>\n",
              "      <td>M</td>\n",
              "      <td>5539</td>\n",
              "    </tr>\n",
              "  </tbody>\n",
              "</table>\n",
              "</div>"
            ],
            "text/plain": [
              "  SEX   CNT\n",
              "0   F  5513\n",
              "1   M  5539"
            ]
          },
          "metadata": {
            "tags": []
          },
          "execution_count": 409
        }
      ]
    },
    {
      "cell_type": "code",
      "metadata": {
        "id": "_p8OnWgLWzch",
        "colab_type": "code",
        "colab": {
          "base_uri": "https://localhost:8080/",
          "height": 283
        },
        "outputId": "76625e33-c994-46ae-c78e-b138836674f7"
      },
      "source": [
        "plt.bar(gender_counts['SEX'],gender_counts['CNT'])"
      ],
      "execution_count": 410,
      "outputs": [
        {
          "output_type": "execute_result",
          "data": {
            "text/plain": [
              "<BarContainer object of 2 artists>"
            ]
          },
          "metadata": {
            "tags": []
          },
          "execution_count": 410
        },
        {
          "output_type": "display_data",
          "data": {
            "image/png": "[encoded data removed]",
            "text/plain": [
              "<Figure size 432x288 with 1 Axes>"
            ]
          },
          "metadata": {
            "tags": [],
            "needs_background": "light"
          }
        }
      ]
    },
    {
      "cell_type": "markdown",
      "metadata": {
        "id": "TUCKuQhBX8MZ",
        "colab_type": "text"
      },
      "source": [
        "As we can see here we have balanced data against the classes \n",
        "we have\n",
        "\n",
        " \n",
        "\n",
        "\n"
      ]
    },
    {
      "cell_type": "markdown",
      "metadata": {
        "id": "TzjI9DoPKsHj",
        "colab_type": "text"
      },
      "source": [
        "Unique Speakers count"
      ]
    },
    {
      "cell_type": "code",
      "metadata": {
        "id": "jkzRyycXJlrr",
        "colab_type": "code",
        "colab": {
          "base_uri": "https://localhost:8080/",
          "height": 35
        },
        "outputId": "82de3f7b-5e19-4eab-b4c3-484486a84f7f"
      },
      "source": [
        "len(files_df.query('ID not in (0,1)')['ID'].unique())"
      ],
      "execution_count": 411,
      "outputs": [
        {
          "output_type": "execute_result",
          "data": {
            "text/plain": [
              "251"
            ]
          },
          "metadata": {
            "tags": []
          },
          "execution_count": 411
        }
      ]
    },
    {
      "cell_type": "markdown",
      "metadata": {
        "id": "AVOiwbwlLZCg",
        "colab_type": "text"
      },
      "source": [
        "Total un-augmented files"
      ]
    },
    {
      "cell_type": "markdown",
      "metadata": {
        "id": "19LGWkTlKzka",
        "colab_type": "text"
      },
      "source": [
        "We have 251 different speakers"
      ]
    },
    {
      "cell_type": "code",
      "metadata": {
        "id": "P2Nk_HCnK709",
        "colab_type": "code",
        "colab": {
          "base_uri": "https://localhost:8080/",
          "height": 35
        },
        "outputId": "1a8b11c8-272d-4233-b923-ae8b4781216a"
      },
      "source": [
        "files_df.query('ID not in (0,1)')['ID'].count()"
      ],
      "execution_count": 412,
      "outputs": [
        {
          "output_type": "execute_result",
          "data": {
            "text/plain": [
              "10026"
            ]
          },
          "metadata": {
            "tags": []
          },
          "execution_count": 412
        }
      ]
    },
    {
      "cell_type": "markdown",
      "metadata": {
        "id": "CFn6o9a9YRgH",
        "colab_type": "text"
      },
      "source": [
        "Lets plot males and female sample signals"
      ]
    },
    {
      "cell_type": "code",
      "metadata": {
        "id": "JB6qwnciYWkD",
        "colab_type": "code",
        "colab": {}
      },
      "source": [
        "df = shuffle(files_df).reset_index()\n",
        "female_sample_files = list(df[df['SEX'] == 'F'].iloc[0:4]['file'])\n",
        "male_sample_files = list(df[df['SEX'] == 'M'].iloc[0:4]['file'])"
      ],
      "execution_count": 413,
      "outputs": []
    },
    {
      "cell_type": "code",
      "metadata": {
        "id": "nBxE7bBeZon7",
        "colab_type": "code",
        "colab": {
          "base_uri": "https://localhost:8080/",
          "height": 571
        },
        "outputId": "31624516-08e7-43b9-d98e-b048cc3e9bfe"
      },
      "source": [
        "rows = 2\n",
        "cols = 2\n",
        "r = 0\n",
        "c = 0\n",
        "fig,a =  plt.subplots(rows,cols)\n",
        "fig.suptitle('Female Utterance Signals', fontsize=15,color='#E0128A')\n",
        "for i in range(len(female_sample_files)):\n",
        "  data, sr = librosa.load(female_sample_files[i])\n",
        "  a[r][c].plot(data,color = '#E85DAC')\n",
        "  if ( c + 1 == cols ) :\n",
        "    r += 1\n",
        "    c = 0\n",
        "  else:\n",
        "    c += 1\n",
        "\n",
        "rows = 2\n",
        "cols = 2\n",
        "r = 0\n",
        "c = 0\n",
        "fig,a =  plt.subplots(rows,cols)\n",
        "fig.suptitle('Male Utterance Signals', fontsize=15,color='blue')\n",
        "for i in range(len(male_sample_files)):\n",
        "  data, sr = librosa.load(male_sample_files[i])\n",
        "  a[r][c].plot(data)\n",
        "  if ( c + 1 == cols ) :\n",
        "    r += 1\n",
        "    c = 0\n",
        "  else:\n",
        "    c += 1\n"
      ],
      "execution_count": 414,
      "outputs": [
        {
          "output_type": "display_data",
          "data": {
            "image/png": "[encoded data removed]",
            "text/plain": [
              "<Figure size 432x288 with 4 Axes>"
            ]
          },
          "metadata": {
            "tags": [],
            "needs_background": "light"
          }
        },
        {
          "output_type": "display_data",
          "data": {
            "image/png": "[encoded data removed]",
            "text/plain": [
              "<Figure size 432x288 with 4 Axes>"
            ]
          },
          "metadata": {
            "tags": [],
            "needs_background": "light"
          }
        }
      ]
    },
    {
      "cell_type": "markdown",
      "metadata": {
        "id": "YBcWHesV0Nsg",
        "colab_type": "text"
      },
      "source": [
        "Lets Plot Spectogram for Male and Female samples"
      ]
    },
    {
      "cell_type": "code",
      "metadata": {
        "id": "hItPeYpJmZUg",
        "colab_type": "code",
        "colab": {
          "base_uri": "https://localhost:8080/",
          "height": 607
        },
        "outputId": "7f295072-63fb-461f-81f8-6fa92bfcfbf8"
      },
      "source": [
        "data, sr = librosa.load(female_sample_files[0],duration=duration)\n",
        "X = librosa.stft(data)\n",
        "#converting into energy levels(dB)\n",
        "Xdb = librosa.amplitude_to_db(abs(X))\n",
        "\n",
        "fig = plt.figure(figsize=(20, 5))\n",
        "fig.suptitle('Female Utterance Spectogram', fontsize=15,color='#E0128A')\n",
        "librosa.display.specshow(Xdb, sr=sr, x_axis='time', y_axis='hz')\n",
        "plt.colorbar()\n",
        "\n",
        "data, sr = librosa.load(male_sample_files[0],duration=duration)\n",
        "X = librosa.stft(data)\n",
        "#converting into energy levels(dB)\n",
        "Xdb = librosa.amplitude_to_db(abs(X))\n",
        "\n",
        "fig = plt.figure(figsize=(20, 5))\n",
        "fig.suptitle('Male Utterance Spectogram', fontsize=15,color='blue')\n",
        "librosa.display.specshow(Xdb, sr=sr, x_axis='time', y_axis='hz')\n",
        "plt.colorbar()"
      ],
      "execution_count": 415,
      "outputs": [
        {
          "output_type": "execute_result",
          "data": {
            "text/plain": [
              "<matplotlib.colorbar.Colorbar at 0x7f5b2d0c6128>"
            ]
          },
          "metadata": {
            "tags": []
          },
          "execution_count": 415
        },
        {
          "output_type": "display_data",
          "data": {
            "image/png": "[encoded data removed]",
            "text/plain": [
              "<Figure size 1440x360 with 2 Axes>"
            ]
          },
          "metadata": {
            "tags": [],
            "needs_background": "light"
          }
        },
        {
          "output_type": "display_data",
          "data": {
            "image/png": "[encoded data removed]",
            "text/plain": [
              "<Figure size 1440x360 with 2 Axes>"
            ]
          },
          "metadata": {
            "tags": [],
            "needs_background": "light"
          }
        }
      ]
    },
    {
      "cell_type": "markdown",
      "metadata": {
        "id": "RzWmtqGszD9I",
        "colab_type": "text"
      },
      "source": [
        "Lets plot MFCCs for male and female samples"
      ]
    },
    {
      "cell_type": "code",
      "metadata": {
        "id": "YgNqIihlqWlm",
        "colab_type": "code",
        "colab": {
          "base_uri": "https://localhost:8080/",
          "height": 603
        },
        "outputId": "3b7c019f-8c53-4b69-b3b0-333b4467eec2"
      },
      "source": [
        "data, sr = librosa.load(female_sample_files[0])\n",
        "Xdb = get_mfcc_properties(data,sr)\n",
        "fig = plt.figure(figsize=(20, 5))\n",
        "fig.suptitle('Female Utterance MFCCs', fontsize=15,color='#E0128A')\n",
        "librosa.display.specshow(Xdb, sr=sr, x_axis='time', y_axis='hz')\n",
        "plt.colorbar()\n",
        "\n",
        "data, sr = librosa.load(male_sample_files[0])\n",
        "Xdb = get_mfcc_properties(data,sr)\n",
        "fig = plt.figure(figsize=(20, 5))\n",
        "fig.suptitle('Male Utterance MFCCs', fontsize=15,color='blue')\n",
        "librosa.display.specshow(Xdb, sr=sr, x_axis='time', y_axis='hz')\n",
        "plt.colorbar()"
      ],
      "execution_count": 416,
      "outputs": [
        {
          "output_type": "execute_result",
          "data": {
            "text/plain": [
              "<matplotlib.colorbar.Colorbar at 0x7f5ac9c835c0>"
            ]
          },
          "metadata": {
            "tags": []
          },
          "execution_count": 416
        },
        {
          "output_type": "display_data",
          "data": {
            "image/png": "[encoded data removed]",
            "text/plain": [
              "<Figure size 1440x360 with 2 Axes>"
            ]
          },
          "metadata": {
            "tags": [],
            "needs_background": "light"
          }
        },
        {
          "output_type": "display_data",
          "data": {
            "image/png": "[encoded data removed]",
            "text/plain": [
              "<Figure size 1440x360 with 2 Axes>"
            ]
          },
          "metadata": {
            "tags": [],
            "needs_background": "light"
          }
        }
      ]
    },
    {
      "cell_type": "markdown",
      "metadata": {
        "id": "d1sySv8Jgi4K",
        "colab_type": "text"
      },
      "source": [
        "Solution 1 :\n",
        "grab some statistical features from sginal data :\n",
        "\n",
        "\n",
        "*   zero crossing rates\n",
        "*   tonal centroid\n",
        "*   roll-off frequency\n",
        "*   spectral flattness\n",
        "*   Spectral Contrast\n",
        "*   Spectral Bandwidth\n",
        "*   spectral centroid\n",
        "*   RMSE\n",
        "\n"
      ]
    },
    {
      "cell_type": "markdown",
      "metadata": {
        "id": "wibK3uXd_6nn",
        "colab_type": "text"
      },
      "source": [
        "# Approach 1 : Features Statistical Analysis with a Feed Forward Deep Neural Network."
      ]
    },
    {
      "cell_type": "code",
      "metadata": {
        "id": "HJan7YqPgiUn",
        "colab_type": "code",
        "colab": {}
      },
      "source": [
        "data_df = prepare_stats_df(files_df,url_file_selection=DATA_SOURCE,df_path='data_stats_df.csv')\n",
        "data_df.to_csv(os.path.join(drive_path,'data_stats_df.csv'),index=False)\n",
        "gender_labels = data_df['SEX']\n",
        "labels = [genders.index(x) for x in gender_labels]\n",
        "data_df = data_df.drop(columns= ['SEX','Unnamed: 0'])"
      ],
      "execution_count": 417,
      "outputs": []
    },
    {
      "cell_type": "markdown",
      "metadata": {
        "id": "JD-d7Li2CqZW",
        "colab_type": "text"
      },
      "source": [
        "prepare XGboost classifier to calculate feature importanc to select the best features for the calssifier."
      ]
    },
    {
      "cell_type": "code",
      "metadata": {
        "id": "LWf2uTFYUBor",
        "colab_type": "code",
        "colab": {
          "base_uri": "https://localhost:8080/",
          "height": 35
        },
        "outputId": "b9c84f2a-b221-4de6-fbb5-94349974a5a3"
      },
      "source": [
        "sc = StandardScaler()\n",
        "df_scaled = pd.DataFrame(sc.fit_transform(data_df), columns=data_df.columns)\n",
        "X_train, X_test, y_train, y_test = train_test_split(df_scaled, labels, test_size=0.33, random_state=7)\n",
        "# fit model no training data\n",
        "model = xgboost.XGBClassifier()\n",
        "model.fit(X_train, y_train)\n",
        "# make predictions for test data\n",
        "y_pred = model.predict(X_test)\n",
        "predictions = [round(value) for value in y_pred]\n",
        "# evaluate predictions\n",
        "accuracy = accuracy_score(y_test, predictions)\n",
        "print(\"Accuracy: %.2f%%\" % (accuracy * 100.0))\n"
      ],
      "execution_count": 418,
      "outputs": [
        {
          "output_type": "stream",
          "text": [
            "Accuracy: 89.84%\n"
          ],
          "name": "stdout"
        }
      ]
    },
    {
      "cell_type": "code",
      "metadata": {
        "id": "OB_BALX876ep",
        "colab_type": "code",
        "colab": {}
      },
      "source": [
        "dbfile = open('/content/scaler', 'ab') \n",
        "pickle.dump(sc, dbfile)                      \n",
        "dbfile.close()"
      ],
      "execution_count": 419,
      "outputs": []
    },
    {
      "cell_type": "markdown",
      "metadata": {
        "id": "YduMX2N8oduj",
        "colab_type": "text"
      },
      "source": [
        "Get features importance"
      ]
    },
    {
      "cell_type": "code",
      "metadata": {
        "id": "2USiT-u8bDmP",
        "colab_type": "code",
        "colab": {}
      },
      "source": [
        "cols = []\n",
        "vals = []\n",
        "a = model.get_booster().get_score(importance_type=\"gain\")\n",
        "for k in a.keys():\n",
        "  cols.append(k)\n",
        "  vals.append(a[k])\n",
        "importance_df = pd.DataFrame({'col':cols,'importance':vals})\n",
        "importance_df.sort_values('importance',ascending=False,inplace=True)"
      ],
      "execution_count": 420,
      "outputs": []
    },
    {
      "cell_type": "code",
      "metadata": {
        "id": "sUeilrs2oaME",
        "colab_type": "code",
        "colab": {}
      },
      "source": [
        "# cols_to_keep = importance_df[importance_df['importance'] >= 0]['col'].values.tolist()\n",
        "df = df_scaled\n",
        "\n",
        "X_train, X_test, y_train, y_test = train_test_split(df, labels, test_size=0.33, random_state=7)"
      ],
      "execution_count": 421,
      "outputs": []
    },
    {
      "cell_type": "code",
      "metadata": {
        "id": "eigjNY0K2-4B",
        "colab_type": "code",
        "colab": {
          "base_uri": "https://localhost:8080/",
          "height": 35
        },
        "outputId": "3650c1bd-ab24-4144-e01d-02d2d3ab0271"
      },
      "source": [
        "sc = StandardScaler()\n",
        "df_scaled = pd.DataFrame(sc.fit_transform(data_df), columns=data_df.columns)\n",
        "X_train, X_test, y_train, y_test = train_test_split(df_scaled, labels, test_size=0.33, random_state=7)\n",
        "# fit model no training data\n",
        "model = xgboost.XGBClassifier()\n",
        "model.fit(X_train, y_train)\n",
        "# make predictions for test data\n",
        "y_pred = model.predict(X_test)\n",
        "predictions = [round(value) for value in y_pred]\n",
        "# evaluate predictions\n",
        "accuracy = accuracy_score(y_test, predictions)\n",
        "print(\"Accuracy: %.2f%%\" % (accuracy * 100.0))"
      ],
      "execution_count": 422,
      "outputs": [
        {
          "output_type": "stream",
          "text": [
            "Accuracy: 89.84%\n"
          ],
          "name": "stdout"
        }
      ]
    },
    {
      "cell_type": "code",
      "metadata": {
        "id": "MkpdztPd8Gb6",
        "colab_type": "code",
        "colab": {}
      },
      "source": [
        "dbfile = open('scaler', 'ab') \n",
        "pickle.dump(sc, dbfile)                      \n",
        "dbfile.close() "
      ],
      "execution_count": 423,
      "outputs": []
    },
    {
      "cell_type": "code",
      "metadata": {
        "id": "_crwsDQ85agT",
        "colab_type": "code",
        "colab": {}
      },
      "source": [
        "def stats_model1():\n",
        "    model = Sequential()\n",
        "    model.add(Dense(units=256, activation='relu',input_shape= (X_train.shape[1],)))\n",
        "    model.add(Dense(units=128, activation='relu'))\n",
        "    model.add(Dropout(.4))\n",
        "    model.add(Dense(units=128, activation='relu'))\n",
        "    model.add(Dropout(.4))\n",
        "    model.add(Dense(units=56, activation='relu'))\n",
        "    model.add(Dropout(.4))\n",
        "    model.add(Dense(units=32, activation='relu'))\n",
        "    model.add(Dense(units=1, activation='sigmoid', name='output_layer'))\n",
        "    return model"
      ],
      "execution_count": 424,
      "outputs": []
    },
    {
      "cell_type": "code",
      "metadata": {
        "id": "Nwgqe4tG6EgC",
        "colab_type": "code",
        "colab": {
          "base_uri": "https://localhost:8080/",
          "height": 468
        },
        "outputId": "db2ae923-c9f5-4d80-d9f3-d118a7ec3765"
      },
      "source": [
        "stat_model = stats_model1()\n",
        "stat_model.compile(loss='binary_crossentropy',\n",
        "                  optimizer='adam', #tf.keras.optimizers.SGD(lr=1e-4, decay=1e-6, momentum=0.9, nesterov=True),\n",
        "                  metrics=['accuracy'])  \n",
        "stat_model.summary()"
      ],
      "execution_count": 425,
      "outputs": [
        {
          "output_type": "stream",
          "text": [
            "Model: \"sequential_16\"\n",
            "_________________________________________________________________\n",
            "Layer (type)                 Output Shape              Param #   \n",
            "=================================================================\n",
            "dense_58 (Dense)             (None, 256)               8448      \n",
            "_________________________________________________________________\n",
            "dense_59 (Dense)             (None, 128)               32896     \n",
            "_________________________________________________________________\n",
            "dropout_39 (Dropout)         (None, 128)               0         \n",
            "_________________________________________________________________\n",
            "dense_60 (Dense)             (None, 128)               16512     \n",
            "_________________________________________________________________\n",
            "dropout_40 (Dropout)         (None, 128)               0         \n",
            "_________________________________________________________________\n",
            "dense_61 (Dense)             (None, 56)                7224      \n",
            "_________________________________________________________________\n",
            "dropout_41 (Dropout)         (None, 56)                0         \n",
            "_________________________________________________________________\n",
            "dense_62 (Dense)             (None, 32)                1824      \n",
            "_________________________________________________________________\n",
            "output_layer (Dense)         (None, 1)                 33        \n",
            "=================================================================\n",
            "Total params: 66,937\n",
            "Trainable params: 66,937\n",
            "Non-trainable params: 0\n",
            "_________________________________________________________________\n"
          ],
          "name": "stdout"
        }
      ]
    },
    {
      "cell_type": "code",
      "metadata": {
        "colab_type": "code",
        "id": "fbhdnWbs6zNy",
        "colab": {}
      },
      "source": [
        "def step_decay(epoch):\n",
        "    # 00158 = 90.4%\n",
        "\tinitial_lrate = 0.01\n",
        "\tdrop = 0.9\n",
        "\tepochs_drop = 1\n",
        "\tlrate = initial_lrate * math.pow(drop, math.floor((1+epoch)/epochs_drop))\n",
        "\treturn lrate"
      ],
      "execution_count": 426,
      "outputs": []
    },
    {
      "cell_type": "code",
      "metadata": {
        "colab_type": "code",
        "id": "cN1RPLUJ6zN5",
        "colab": {}
      },
      "source": [
        "early_stopping = EarlyStopping(monitor='val_loss',\n",
        "                          min_delta=0,\n",
        "                          patience=4,\n",
        "                          verbose=2, \n",
        "                          mode='auto')\n",
        "checkpointer = ModelCheckpoint(filepath='model_check.h5', verbose=1, monitor='val_loss', save_best_only=True)\n",
        "lrate = LearningRateScheduler(step_decay)"
      ],
      "execution_count": 427,
      "outputs": []
    },
    {
      "cell_type": "code",
      "metadata": {
        "id": "8i0waHso6jfQ",
        "colab_type": "code",
        "colab": {
          "base_uri": "https://localhost:8080/",
          "height": 817
        },
        "outputId": "cd498671-483e-4d41-af1a-f91b2c674a23"
      },
      "source": [
        "history_0 = stat_model.fit(X_train, np.array(y_train), batch_size=20, epochs=120, verbose=1, validation_data=(X_test, np.array(y_test)),callbacks=[early_stopping, checkpointer, lrate ])"
      ],
      "execution_count": 428,
      "outputs": [
        {
          "output_type": "stream",
          "text": [
            "Epoch 1/120\n",
            "41/44 [==========================>...] - ETA: 0s - loss: 0.6635 - accuracy: 0.6122\n",
            "Epoch 00001: val_loss improved from inf to 0.47700, saving model to model_check.h5\n",
            "44/44 [==============================] - 0s 11ms/step - loss: 0.6522 - accuracy: 0.6253 - val_loss: 0.4770 - val_accuracy: 0.7783\n",
            "Epoch 2/120\n",
            "30/44 [===================>..........] - ETA: 0s - loss: 0.4802 - accuracy: 0.7900\n",
            "Epoch 00002: val_loss did not improve from 0.47700\n",
            "44/44 [==============================] - 0s 5ms/step - loss: 0.4960 - accuracy: 0.7916 - val_loss: 0.5172 - val_accuracy: 0.7413\n",
            "Epoch 3/120\n",
            "44/44 [==============================] - ETA: 0s - loss: 0.3758 - accuracy: 0.8383\n",
            "Epoch 00003: val_loss improved from 0.47700 to 0.39222, saving model to model_check.h5\n",
            "44/44 [==============================] - 0s 6ms/step - loss: 0.3758 - accuracy: 0.8383 - val_loss: 0.3922 - val_accuracy: 0.8499\n",
            "Epoch 4/120\n",
            "32/44 [====================>.........] - ETA: 0s - loss: 0.3462 - accuracy: 0.8578\n",
            "Epoch 00004: val_loss improved from 0.39222 to 0.36190, saving model to model_check.h5\n",
            "44/44 [==============================] - 0s 5ms/step - loss: 0.3403 - accuracy: 0.8690 - val_loss: 0.3619 - val_accuracy: 0.8453\n",
            "Epoch 5/120\n",
            "32/44 [====================>.........] - ETA: 0s - loss: 0.2728 - accuracy: 0.8844\n",
            "Epoch 00005: val_loss improved from 0.36190 to 0.32879, saving model to model_check.h5\n",
            "44/44 [==============================] - 0s 5ms/step - loss: 0.2808 - accuracy: 0.8907 - val_loss: 0.3288 - val_accuracy: 0.8730\n",
            "Epoch 6/120\n",
            "43/44 [============================>.] - ETA: 0s - loss: 0.2066 - accuracy: 0.9140\n",
            "Epoch 00006: val_loss improved from 0.32879 to 0.31672, saving model to model_check.h5\n",
            "44/44 [==============================] - 0s 6ms/step - loss: 0.2073 - accuracy: 0.9134 - val_loss: 0.3167 - val_accuracy: 0.8661\n",
            "Epoch 7/120\n",
            "30/44 [===================>..........] - ETA: 0s - loss: 0.2151 - accuracy: 0.9267\n",
            "Epoch 00007: val_loss improved from 0.31672 to 0.27655, saving model to model_check.h5\n",
            "44/44 [==============================] - 0s 6ms/step - loss: 0.2086 - accuracy: 0.9282 - val_loss: 0.2765 - val_accuracy: 0.8915\n",
            "Epoch 8/120\n",
            "30/44 [===================>..........] - ETA: 0s - loss: 0.1354 - accuracy: 0.9500\n",
            "Epoch 00008: val_loss did not improve from 0.27655\n",
            "44/44 [==============================] - 0s 5ms/step - loss: 0.1579 - accuracy: 0.9431 - val_loss: 0.6106 - val_accuracy: 0.8360\n",
            "Epoch 9/120\n",
            "44/44 [==============================] - ETA: 0s - loss: 0.1880 - accuracy: 0.9385\n",
            "Epoch 00009: val_loss did not improve from 0.27655\n",
            "44/44 [==============================] - 0s 5ms/step - loss: 0.1880 - accuracy: 0.9385 - val_loss: 0.2977 - val_accuracy: 0.9122\n",
            "Epoch 10/120\n",
            "42/44 [===========================>..] - ETA: 0s - loss: 0.1397 - accuracy: 0.9560\n",
            "Epoch 00010: val_loss did not improve from 0.27655\n",
            "44/44 [==============================] - 0s 5ms/step - loss: 0.1357 - accuracy: 0.9579 - val_loss: 0.2885 - val_accuracy: 0.8938\n",
            "Epoch 11/120\n",
            "43/44 [============================>.] - ETA: 0s - loss: 0.0967 - accuracy: 0.9674\n",
            "Epoch 00011: val_loss did not improve from 0.27655\n",
            "44/44 [==============================] - 0s 5ms/step - loss: 0.0983 - accuracy: 0.9658 - val_loss: 0.3340 - val_accuracy: 0.8915\n",
            "Epoch 00011: early stopping\n"
          ],
          "name": "stdout"
        }
      ]
    },
    {
      "cell_type": "code",
      "metadata": {
        "id": "7CiJ5tfcFMKK",
        "colab_type": "code",
        "colab": {
          "base_uri": "https://localhost:8080/",
          "height": 573
        },
        "outputId": "e2431d9b-3c43-47b1-f5bd-f26ba361d1cb"
      },
      "source": [
        "plt.plot(history_0.history['accuracy'])\n",
        "plt.plot(history_0.history['val_accuracy'])\n",
        "plt.title('model accuracy')\n",
        "plt.ylabel('accuracy')\n",
        "plt.xlabel('epoch')\n",
        "plt.legend(['train', 'test'], loc='upper left')\n",
        "plt.show()\n",
        "# summarize history for loss\n",
        "plt.plot(history_0.history['loss'])\n",
        "plt.plot(history_0.history['val_loss'])\n",
        "plt.title('model loss')\n",
        "plt.ylabel('loss')\n",
        "plt.xlabel('epoch')\n",
        "plt.legend(['train', 'test'], loc='upper left')\n",
        "plt.show()"
      ],
      "execution_count": 429,
      "outputs": [
        {
          "output_type": "display_data",
          "data": {
            "image/png": "[encoded data removed]",
            "text/plain": [
              "<Figure size 432x288 with 1 Axes>"
            ]
          },
          "metadata": {
            "tags": [],
            "needs_background": "light"
          }
        },
        {
          "output_type": "display_data",
          "data": {
            "image/png": "[encoded data removed]",
            "text/plain": [
              "<Figure size 432x288 with 1 Axes>"
            ]
          },
          "metadata": {
            "tags": [],
            "needs_background": "light"
          }
        }
      ]
    },
    {
      "cell_type": "code",
      "metadata": {
        "id": "xubMTuxNp0uX",
        "colab_type": "code",
        "colab": {
          "base_uri": "https://localhost:8080/",
          "height": 450
        },
        "outputId": "5f30706b-1934-4f61-e1b6-a27287bc5899"
      },
      "source": [
        "other_test_df1 , other_test_labels1 = prepare_other_test_data(\"test_other/LibriSpeech\",\"test_other/LibriSpeech/SPEAKERS.TXT\",'test-other',processing_type='S')"
      ],
      "execution_count": 430,
      "outputs": [
        {
          "output_type": "stream",
          "text": [
            "0-33\n",
            "1-/content/test_other/LibriSpeech/test-other\n",
            "2-33\n",
            "3-33\n",
            "4-1311\n",
            "5- 1311\n"
          ],
          "name": "stdout"
        },
        {
          "output_type": "error",
          "ename": "KeyboardInterrupt",
          "evalue": "ignored",
          "traceback": [
            "\u001b[0;31m---------------------------------------------------------------------------\u001b[0m",
            "\u001b[0;31mKeyboardInterrupt\u001b[0m                         Traceback (most recent call last)",
            "\u001b[0;32m<ipython-input-430-87543a376a99>\u001b[0m in \u001b[0;36m<module>\u001b[0;34m()\u001b[0m\n\u001b[0;32m----> 1\u001b[0;31m \u001b[0mother_test_df1\u001b[0m \u001b[0;34m,\u001b[0m \u001b[0mother_test_labels1\u001b[0m \u001b[0;34m=\u001b[0m \u001b[0mprepare_other_test_data\u001b[0m\u001b[0;34m(\u001b[0m\u001b[0;34m\"test_other/LibriSpeech\"\u001b[0m\u001b[0;34m,\u001b[0m\u001b[0;34m\"test_other/LibriSpeech/SPEAKERS.TXT\"\u001b[0m\u001b[0;34m,\u001b[0m\u001b[0;34m'test-other'\u001b[0m\u001b[0;34m,\u001b[0m\u001b[0mprocessing_type\u001b[0m\u001b[0;34m=\u001b[0m\u001b[0;34m'S'\u001b[0m\u001b[0;34m)\u001b[0m\u001b[0;34m\u001b[0m\u001b[0;34m\u001b[0m\u001b[0m\n\u001b[0m",
            "\u001b[0;32m<ipython-input-404-679b2d3e944b>\u001b[0m in \u001b[0;36mprepare_other_test_data\u001b[0;34m(test_dir, speakers_file_path, sub_dir_name, processing_type)\u001b[0m\n\u001b[1;32m    773\u001b[0m \u001b[0;34m\u001b[0m\u001b[0m\n\u001b[1;32m    774\u001b[0m   \u001b[0;32mif\u001b[0m \u001b[0mprocessing_type\u001b[0m \u001b[0;34m==\u001b[0m \u001b[0;34m'S'\u001b[0m\u001b[0;34m:\u001b[0m\u001b[0;34m\u001b[0m\u001b[0;34m\u001b[0m\u001b[0m\n\u001b[0;32m--> 775\u001b[0;31m     \u001b[0mdata_df\u001b[0m \u001b[0;34m=\u001b[0m \u001b[0mprepare_stats_df\u001b[0m\u001b[0;34m(\u001b[0m\u001b[0mfiles_df\u001b[0m\u001b[0;34m,\u001b[0m\u001b[0murl_file_selection\u001b[0m\u001b[0;34m=\u001b[0m\u001b[0;34m'U'\u001b[0m\u001b[0;34m)\u001b[0m\u001b[0;34m\u001b[0m\u001b[0;34m\u001b[0m\u001b[0m\n\u001b[0m\u001b[1;32m    776\u001b[0m \u001b[0;34m\u001b[0m\u001b[0m\n\u001b[1;32m    777\u001b[0m     \u001b[0mdata_df\u001b[0m\u001b[0;34m.\u001b[0m\u001b[0mto_csv\u001b[0m\u001b[0;34m(\u001b[0m\u001b[0mos\u001b[0m\u001b[0;34m.\u001b[0m\u001b[0mpath\u001b[0m\u001b[0;34m.\u001b[0m\u001b[0mjoin\u001b[0m\u001b[0;34m(\u001b[0m\u001b[0mdrive_path\u001b[0m\u001b[0;34m,\u001b[0m\u001b[0;34m'data_stats_df.csv'\u001b[0m\u001b[0;34m)\u001b[0m\u001b[0;34m)\u001b[0m\u001b[0;34m\u001b[0m\u001b[0;34m\u001b[0m\u001b[0m\n",
            "\u001b[0;32m<ipython-input-404-679b2d3e944b>\u001b[0m in \u001b[0;36mprepare_stats_df\u001b[0;34m(df, url_file_selection, df_path)\u001b[0m\n\u001b[1;32m    342\u001b[0m     \u001b[0;32mfor\u001b[0m \u001b[0mi\u001b[0m \u001b[0;32min\u001b[0m \u001b[0mrange\u001b[0m\u001b[0;34m(\u001b[0m\u001b[0mdf\u001b[0m\u001b[0;34m.\u001b[0m\u001b[0mshape\u001b[0m\u001b[0;34m[\u001b[0m\u001b[0;36m0\u001b[0m\u001b[0;34m]\u001b[0m\u001b[0;34m)\u001b[0m\u001b[0;34m:\u001b[0m\u001b[0;34m\u001b[0m\u001b[0;34m\u001b[0m\u001b[0m\n\u001b[1;32m    343\u001b[0m       \u001b[0my\u001b[0m\u001b[0;34m,\u001b[0m \u001b[0msr\u001b[0m \u001b[0;34m=\u001b[0m \u001b[0mlibrosa\u001b[0m\u001b[0;34m.\u001b[0m\u001b[0mload\u001b[0m\u001b[0;34m(\u001b[0m\u001b[0mdf\u001b[0m\u001b[0;34m.\u001b[0m\u001b[0miloc\u001b[0m\u001b[0;34m[\u001b[0m\u001b[0mi\u001b[0m\u001b[0;34m]\u001b[0m\u001b[0;34m[\u001b[0m\u001b[0;34m'file'\u001b[0m\u001b[0;34m]\u001b[0m\u001b[0;34m,\u001b[0m\u001b[0mduration\u001b[0m\u001b[0;34m=\u001b[0m\u001b[0mduration\u001b[0m\u001b[0;34m)\u001b[0m\u001b[0;34m\u001b[0m\u001b[0;34m\u001b[0m\u001b[0m\n\u001b[0;32m--> 344\u001b[0;31m       \u001b[0mzc_stats\u001b[0m\u001b[0;34m,\u001b[0m\u001b[0mtc_stats\u001b[0m\u001b[0;34m,\u001b[0m\u001b[0mro_stats\u001b[0m\u001b[0;34m,\u001b[0m\u001b[0msf_stats\u001b[0m\u001b[0;34m,\u001b[0m\u001b[0msc_stats\u001b[0m\u001b[0;34m,\u001b[0m\u001b[0msb_stats\u001b[0m\u001b[0;34m,\u001b[0m\u001b[0ms_cent_stats\u001b[0m\u001b[0;34m,\u001b[0m\u001b[0mrmse_stats\u001b[0m \u001b[0;34m=\u001b[0m \u001b[0mget_signal_stats\u001b[0m\u001b[0;34m(\u001b[0m\u001b[0my\u001b[0m\u001b[0;34m,\u001b[0m\u001b[0msr\u001b[0m\u001b[0;34m)\u001b[0m\u001b[0;34m\u001b[0m\u001b[0;34m\u001b[0m\u001b[0m\n\u001b[0m\u001b[1;32m    345\u001b[0m       \u001b[0;32mif\u001b[0m \u001b[0mk\u001b[0m \u001b[0;34m==\u001b[0m \u001b[0;36m0\u001b[0m\u001b[0;34m:\u001b[0m\u001b[0;34m\u001b[0m\u001b[0;34m\u001b[0m\u001b[0m\n\u001b[1;32m    346\u001b[0m         \u001b[0mfeats\u001b[0m \u001b[0;34m=\u001b[0m \u001b[0;34m[\u001b[0m\u001b[0;34m]\u001b[0m\u001b[0;34m\u001b[0m\u001b[0;34m\u001b[0m\u001b[0m\n",
            "\u001b[0;32m<ipython-input-404-679b2d3e944b>\u001b[0m in \u001b[0;36mget_signal_stats\u001b[0;34m(data, sr)\u001b[0m\n\u001b[1;32m    236\u001b[0m   \u001b[0;31m# tonal centroid features\u001b[0m\u001b[0;34m\u001b[0m\u001b[0;34m\u001b[0m\u001b[0;34m\u001b[0m\u001b[0m\n\u001b[1;32m    237\u001b[0m   \u001b[0my\u001b[0m \u001b[0;34m=\u001b[0m \u001b[0mlibrosa\u001b[0m\u001b[0;34m.\u001b[0m\u001b[0meffects\u001b[0m\u001b[0;34m.\u001b[0m\u001b[0mharmonic\u001b[0m\u001b[0;34m(\u001b[0m\u001b[0mdata\u001b[0m\u001b[0;34m)\u001b[0m\u001b[0;34m\u001b[0m\u001b[0;34m\u001b[0m\u001b[0m\n\u001b[0;32m--> 238\u001b[0;31m   \u001b[0mtc\u001b[0m \u001b[0;34m=\u001b[0m \u001b[0mlibrosa\u001b[0m\u001b[0;34m.\u001b[0m\u001b[0mfeature\u001b[0m\u001b[0;34m.\u001b[0m\u001b[0mtonnetz\u001b[0m\u001b[0;34m(\u001b[0m\u001b[0my\u001b[0m\u001b[0;34m=\u001b[0m\u001b[0my\u001b[0m\u001b[0;34m,\u001b[0m \u001b[0msr\u001b[0m\u001b[0;34m=\u001b[0m\u001b[0msr\u001b[0m\u001b[0;34m)\u001b[0m\u001b[0;34m\u001b[0m\u001b[0;34m\u001b[0m\u001b[0m\n\u001b[0m\u001b[1;32m    239\u001b[0m   \u001b[0mtc_stats\u001b[0m \u001b[0;34m=\u001b[0m \u001b[0;34m{\u001b[0m\u001b[0;34m'tonnetz_mean'\u001b[0m\u001b[0;34m:\u001b[0m\u001b[0mtc\u001b[0m\u001b[0;34m.\u001b[0m\u001b[0mmean\u001b[0m\u001b[0;34m(\u001b[0m\u001b[0;34m)\u001b[0m\u001b[0;34m.\u001b[0m\u001b[0mround\u001b[0m\u001b[0;34m(\u001b[0m\u001b[0;36m5\u001b[0m\u001b[0;34m)\u001b[0m\u001b[0;34m,\u001b[0m\u001b[0;34m'tonnetz_min'\u001b[0m\u001b[0;34m:\u001b[0m\u001b[0mtc\u001b[0m\u001b[0;34m.\u001b[0m\u001b[0mmin\u001b[0m\u001b[0;34m(\u001b[0m\u001b[0;34m)\u001b[0m\u001b[0;34m.\u001b[0m\u001b[0mround\u001b[0m\u001b[0;34m(\u001b[0m\u001b[0;36m5\u001b[0m\u001b[0;34m)\u001b[0m\u001b[0;34m,\u001b[0m\u001b[0;34m'tonnetz_max'\u001b[0m\u001b[0;34m:\u001b[0m\u001b[0mtc\u001b[0m\u001b[0;34m.\u001b[0m\u001b[0mmax\u001b[0m\u001b[0;34m(\u001b[0m\u001b[0;34m)\u001b[0m\u001b[0;34m.\u001b[0m\u001b[0mround\u001b[0m\u001b[0;34m(\u001b[0m\u001b[0;36m5\u001b[0m\u001b[0;34m)\u001b[0m\u001b[0;34m,\u001b[0m\u001b[0;34m'tonnetz_std'\u001b[0m\u001b[0;34m:\u001b[0m\u001b[0mtc\u001b[0m\u001b[0;34m.\u001b[0m\u001b[0mstd\u001b[0m\u001b[0;34m(\u001b[0m\u001b[0;34m)\u001b[0m\u001b[0;34m.\u001b[0m\u001b[0mround\u001b[0m\u001b[0;34m(\u001b[0m\u001b[0;36m5\u001b[0m\u001b[0;34m)\u001b[0m\u001b[0;34m}\u001b[0m\u001b[0;34m\u001b[0m\u001b[0;34m\u001b[0m\u001b[0m\n\u001b[1;32m    240\u001b[0m \u001b[0;34m\u001b[0m\u001b[0m\n",
            "\u001b[0;32m/usr/local/lib/python3.6/dist-packages/librosa/feature/spectral.py\u001b[0m in \u001b[0;36mtonnetz\u001b[0;34m(y, sr, chroma)\u001b[0m\n\u001b[1;32m   1321\u001b[0m \u001b[0;34m\u001b[0m\u001b[0m\n\u001b[1;32m   1322\u001b[0m     \u001b[0;32mif\u001b[0m \u001b[0mchroma\u001b[0m \u001b[0;32mis\u001b[0m \u001b[0;32mNone\u001b[0m\u001b[0;34m:\u001b[0m\u001b[0;34m\u001b[0m\u001b[0;34m\u001b[0m\u001b[0m\n\u001b[0;32m-> 1323\u001b[0;31m         \u001b[0mchroma\u001b[0m \u001b[0;34m=\u001b[0m \u001b[0mchroma_cqt\u001b[0m\u001b[0;34m(\u001b[0m\u001b[0my\u001b[0m\u001b[0;34m=\u001b[0m\u001b[0my\u001b[0m\u001b[0;34m,\u001b[0m \u001b[0msr\u001b[0m\u001b[0;34m=\u001b[0m\u001b[0msr\u001b[0m\u001b[0;34m)\u001b[0m\u001b[0;34m\u001b[0m\u001b[0;34m\u001b[0m\u001b[0m\n\u001b[0m\u001b[1;32m   1324\u001b[0m \u001b[0;34m\u001b[0m\u001b[0m\n\u001b[1;32m   1325\u001b[0m     \u001b[0;31m# Generate Transformation matrix\u001b[0m\u001b[0;34m\u001b[0m\u001b[0;34m\u001b[0m\u001b[0;34m\u001b[0m\u001b[0m\n",
            "\u001b[0;32m/usr/local/lib/python3.6/dist-packages/librosa/feature/spectral.py\u001b[0m in \u001b[0;36mchroma_cqt\u001b[0;34m(y, sr, C, hop_length, fmin, norm, threshold, tuning, n_chroma, n_octaves, window, bins_per_octave, cqt_mode)\u001b[0m\n\u001b[1;32m   1077\u001b[0m                                       \u001b[0mn_bins\u001b[0m\u001b[0;34m=\u001b[0m\u001b[0mn_octaves\u001b[0m \u001b[0;34m*\u001b[0m \u001b[0mbins_per_octave\u001b[0m\u001b[0;34m,\u001b[0m\u001b[0;34m\u001b[0m\u001b[0;34m\u001b[0m\u001b[0m\n\u001b[1;32m   1078\u001b[0m                                       \u001b[0mbins_per_octave\u001b[0m\u001b[0;34m=\u001b[0m\u001b[0mbins_per_octave\u001b[0m\u001b[0;34m,\u001b[0m\u001b[0;34m\u001b[0m\u001b[0;34m\u001b[0m\u001b[0m\n\u001b[0;32m-> 1079\u001b[0;31m                                       tuning=tuning))\n\u001b[0m\u001b[1;32m   1080\u001b[0m \u001b[0;34m\u001b[0m\u001b[0m\n\u001b[1;32m   1081\u001b[0m     \u001b[0;31m# Map to chroma\u001b[0m\u001b[0;34m\u001b[0m\u001b[0;34m\u001b[0m\u001b[0;34m\u001b[0m\u001b[0m\n",
            "\u001b[0;32m/usr/local/lib/python3.6/dist-packages/librosa/core/constantq.py\u001b[0m in \u001b[0;36mcqt\u001b[0;34m(y, sr, hop_length, fmin, n_bins, bins_per_octave, tuning, filter_scale, norm, sparsity, window, scale, pad_mode)\u001b[0m\n\u001b[1;32m    241\u001b[0m             my_y = audio.resample(my_y, my_sr, my_sr/2.0,\n\u001b[1;32m    242\u001b[0m                                   \u001b[0mres_type\u001b[0m\u001b[0;34m=\u001b[0m\u001b[0mres_type\u001b[0m\u001b[0;34m,\u001b[0m\u001b[0;34m\u001b[0m\u001b[0;34m\u001b[0m\u001b[0m\n\u001b[0;32m--> 243\u001b[0;31m                                   scale=True)\n\u001b[0m\u001b[1;32m    244\u001b[0m             \u001b[0;31m# The re-scale the filters to compensate for downsampling\u001b[0m\u001b[0;34m\u001b[0m\u001b[0;34m\u001b[0m\u001b[0;34m\u001b[0m\u001b[0m\n\u001b[1;32m    245\u001b[0m             \u001b[0mfft_basis\u001b[0m\u001b[0;34m[\u001b[0m\u001b[0;34m:\u001b[0m\u001b[0;34m]\u001b[0m \u001b[0;34m*=\u001b[0m \u001b[0mnp\u001b[0m\u001b[0;34m.\u001b[0m\u001b[0msqrt\u001b[0m\u001b[0;34m(\u001b[0m\u001b[0;36m2\u001b[0m\u001b[0;34m)\u001b[0m\u001b[0;34m\u001b[0m\u001b[0;34m\u001b[0m\u001b[0m\n",
            "\u001b[0;32m/usr/local/lib/python3.6/dist-packages/librosa/core/audio.py\u001b[0m in \u001b[0;36mresample\u001b[0;34m(y, orig_sr, target_sr, res_type, fix, scale, **kwargs)\u001b[0m\n\u001b[1;32m    291\u001b[0m         \u001b[0my_hat\u001b[0m \u001b[0;34m=\u001b[0m \u001b[0mscipy\u001b[0m\u001b[0;34m.\u001b[0m\u001b[0msignal\u001b[0m\u001b[0;34m.\u001b[0m\u001b[0mresample\u001b[0m\u001b[0;34m(\u001b[0m\u001b[0my\u001b[0m\u001b[0;34m,\u001b[0m \u001b[0mn_samples\u001b[0m\u001b[0;34m,\u001b[0m \u001b[0maxis\u001b[0m\u001b[0;34m=\u001b[0m\u001b[0;34m-\u001b[0m\u001b[0;36m1\u001b[0m\u001b[0;34m)\u001b[0m\u001b[0;34m\u001b[0m\u001b[0;34m\u001b[0m\u001b[0m\n\u001b[1;32m    292\u001b[0m     \u001b[0;32melse\u001b[0m\u001b[0;34m:\u001b[0m\u001b[0;34m\u001b[0m\u001b[0;34m\u001b[0m\u001b[0m\n\u001b[0;32m--> 293\u001b[0;31m         \u001b[0my_hat\u001b[0m \u001b[0;34m=\u001b[0m \u001b[0mresampy\u001b[0m\u001b[0;34m.\u001b[0m\u001b[0mresample\u001b[0m\u001b[0;34m(\u001b[0m\u001b[0my\u001b[0m\u001b[0;34m,\u001b[0m \u001b[0morig_sr\u001b[0m\u001b[0;34m,\u001b[0m \u001b[0mtarget_sr\u001b[0m\u001b[0;34m,\u001b[0m \u001b[0mfilter\u001b[0m\u001b[0;34m=\u001b[0m\u001b[0mres_type\u001b[0m\u001b[0;34m,\u001b[0m \u001b[0maxis\u001b[0m\u001b[0;34m=\u001b[0m\u001b[0;34m-\u001b[0m\u001b[0;36m1\u001b[0m\u001b[0;34m)\u001b[0m\u001b[0;34m\u001b[0m\u001b[0;34m\u001b[0m\u001b[0m\n\u001b[0m\u001b[1;32m    294\u001b[0m \u001b[0;34m\u001b[0m\u001b[0m\n\u001b[1;32m    295\u001b[0m     \u001b[0;32mif\u001b[0m \u001b[0mfix\u001b[0m\u001b[0;34m:\u001b[0m\u001b[0;34m\u001b[0m\u001b[0;34m\u001b[0m\u001b[0m\n",
            "\u001b[0;32m/usr/local/lib/python3.6/dist-packages/resampy/core.py\u001b[0m in \u001b[0;36mresample\u001b[0;34m(x, sr_orig, sr_new, axis, filter, **kwargs)\u001b[0m\n\u001b[1;32m    107\u001b[0m     \u001b[0my\u001b[0m \u001b[0;34m=\u001b[0m \u001b[0mnp\u001b[0m\u001b[0;34m.\u001b[0m\u001b[0mzeros\u001b[0m\u001b[0;34m(\u001b[0m\u001b[0mshape\u001b[0m\u001b[0;34m,\u001b[0m \u001b[0mdtype\u001b[0m\u001b[0;34m=\u001b[0m\u001b[0mx\u001b[0m\u001b[0;34m.\u001b[0m\u001b[0mdtype\u001b[0m\u001b[0;34m,\u001b[0m \u001b[0morder\u001b[0m\u001b[0;34m=\u001b[0m\u001b[0morder\u001b[0m\u001b[0;34m)\u001b[0m\u001b[0;34m\u001b[0m\u001b[0;34m\u001b[0m\u001b[0m\n\u001b[1;32m    108\u001b[0m \u001b[0;34m\u001b[0m\u001b[0m\n\u001b[0;32m--> 109\u001b[0;31m     \u001b[0minterp_win\u001b[0m\u001b[0;34m,\u001b[0m \u001b[0mprecision\u001b[0m\u001b[0;34m,\u001b[0m \u001b[0m_\u001b[0m \u001b[0;34m=\u001b[0m \u001b[0mget_filter\u001b[0m\u001b[0;34m(\u001b[0m\u001b[0mfilter\u001b[0m\u001b[0;34m,\u001b[0m \u001b[0;34m**\u001b[0m\u001b[0mkwargs\u001b[0m\u001b[0;34m)\u001b[0m\u001b[0;34m\u001b[0m\u001b[0;34m\u001b[0m\u001b[0m\n\u001b[0m\u001b[1;32m    110\u001b[0m \u001b[0;34m\u001b[0m\u001b[0m\n\u001b[1;32m    111\u001b[0m     \u001b[0;32mif\u001b[0m \u001b[0msample_ratio\u001b[0m \u001b[0;34m<\u001b[0m \u001b[0;36m1\u001b[0m\u001b[0;34m:\u001b[0m\u001b[0;34m\u001b[0m\u001b[0;34m\u001b[0m\u001b[0m\n",
            "\u001b[0;32m/usr/local/lib/python3.6/dist-packages/resampy/filters.py\u001b[0m in \u001b[0;36mget_filter\u001b[0;34m(name_or_function, **kwargs)\u001b[0m\n\u001b[1;32m    162\u001b[0m     \u001b[0;32melse\u001b[0m\u001b[0;34m:\u001b[0m\u001b[0;34m\u001b[0m\u001b[0;34m\u001b[0m\u001b[0m\n\u001b[1;32m    163\u001b[0m         \u001b[0;32mtry\u001b[0m\u001b[0;34m:\u001b[0m\u001b[0;34m\u001b[0m\u001b[0;34m\u001b[0m\u001b[0m\n\u001b[0;32m--> 164\u001b[0;31m             \u001b[0;32mreturn\u001b[0m \u001b[0mload_filter\u001b[0m\u001b[0;34m(\u001b[0m\u001b[0mname_or_function\u001b[0m\u001b[0;34m)\u001b[0m\u001b[0;34m\u001b[0m\u001b[0;34m\u001b[0m\u001b[0m\n\u001b[0m\u001b[1;32m    165\u001b[0m         \u001b[0;32mexcept\u001b[0m \u001b[0;34m(\u001b[0m\u001b[0mIOError\u001b[0m\u001b[0;34m,\u001b[0m \u001b[0mValueError\u001b[0m\u001b[0;34m)\u001b[0m\u001b[0;34m:\u001b[0m\u001b[0;34m\u001b[0m\u001b[0;34m\u001b[0m\u001b[0m\n\u001b[1;32m    166\u001b[0m             raise NotImplementedError('Cannot load filter definition for '\n",
            "\u001b[0;32m/usr/local/lib/python3.6/dist-packages/resampy/filters.py\u001b[0m in \u001b[0;36mload_filter\u001b[0;34m(filter_name)\u001b[0m\n\u001b[1;32m    191\u001b[0m                          os.path.extsep.join([filter_name, 'npz']))\n\u001b[1;32m    192\u001b[0m \u001b[0;34m\u001b[0m\u001b[0m\n\u001b[0;32m--> 193\u001b[0;31m     \u001b[0mdata\u001b[0m \u001b[0;34m=\u001b[0m \u001b[0mnp\u001b[0m\u001b[0;34m.\u001b[0m\u001b[0mload\u001b[0m\u001b[0;34m(\u001b[0m\u001b[0mpkg_resources\u001b[0m\u001b[0;34m.\u001b[0m\u001b[0mresource_filename\u001b[0m\u001b[0;34m(\u001b[0m\u001b[0m__name__\u001b[0m\u001b[0;34m,\u001b[0m \u001b[0mfname\u001b[0m\u001b[0;34m)\u001b[0m\u001b[0;34m)\u001b[0m\u001b[0;34m\u001b[0m\u001b[0;34m\u001b[0m\u001b[0m\n\u001b[0m\u001b[1;32m    194\u001b[0m \u001b[0;34m\u001b[0m\u001b[0m\n\u001b[1;32m    195\u001b[0m     \u001b[0;32mreturn\u001b[0m \u001b[0mdata\u001b[0m\u001b[0;34m[\u001b[0m\u001b[0;34m'half_window'\u001b[0m\u001b[0;34m]\u001b[0m\u001b[0;34m,\u001b[0m \u001b[0mdata\u001b[0m\u001b[0;34m[\u001b[0m\u001b[0;34m'precision'\u001b[0m\u001b[0;34m]\u001b[0m\u001b[0;34m,\u001b[0m \u001b[0mdata\u001b[0m\u001b[0;34m[\u001b[0m\u001b[0;34m'rolloff'\u001b[0m\u001b[0;34m]\u001b[0m\u001b[0;34m\u001b[0m\u001b[0;34m\u001b[0m\u001b[0m\n",
            "\u001b[0;32m/usr/local/lib/python3.6/dist-packages/numpy/lib/npyio.py\u001b[0m in \u001b[0;36mload\u001b[0;34m(file, mmap_mode, allow_pickle, fix_imports, encoding)\u001b[0m\n\u001b[1;32m    442\u001b[0m             \u001b[0;31m# Transfer file ownership to NpzFile\u001b[0m\u001b[0;34m\u001b[0m\u001b[0;34m\u001b[0m\u001b[0;34m\u001b[0m\u001b[0m\n\u001b[1;32m    443\u001b[0m             ret = NpzFile(fid, own_fid=own_fid, allow_pickle=allow_pickle,\n\u001b[0;32m--> 444\u001b[0;31m                           pickle_kwargs=pickle_kwargs)\n\u001b[0m\u001b[1;32m    445\u001b[0m             \u001b[0mown_fid\u001b[0m \u001b[0;34m=\u001b[0m \u001b[0;32mFalse\u001b[0m\u001b[0;34m\u001b[0m\u001b[0;34m\u001b[0m\u001b[0m\n\u001b[1;32m    446\u001b[0m             \u001b[0;32mreturn\u001b[0m \u001b[0mret\u001b[0m\u001b[0;34m\u001b[0m\u001b[0;34m\u001b[0m\u001b[0m\n",
            "\u001b[0;32m/usr/local/lib/python3.6/dist-packages/numpy/lib/npyio.py\u001b[0m in \u001b[0;36m__init__\u001b[0;34m(self, fid, own_fid, allow_pickle, pickle_kwargs)\u001b[0m\n\u001b[1;32m    191\u001b[0m         \u001b[0;31m# Import is postponed to here since zipfile depends on gzip, an\u001b[0m\u001b[0;34m\u001b[0m\u001b[0;34m\u001b[0m\u001b[0;34m\u001b[0m\u001b[0m\n\u001b[1;32m    192\u001b[0m         \u001b[0;31m# optional component of the so-called standard library.\u001b[0m\u001b[0;34m\u001b[0m\u001b[0;34m\u001b[0m\u001b[0;34m\u001b[0m\u001b[0m\n\u001b[0;32m--> 193\u001b[0;31m         \u001b[0m_zip\u001b[0m \u001b[0;34m=\u001b[0m \u001b[0mzipfile_factory\u001b[0m\u001b[0;34m(\u001b[0m\u001b[0mfid\u001b[0m\u001b[0;34m)\u001b[0m\u001b[0;34m\u001b[0m\u001b[0;34m\u001b[0m\u001b[0m\n\u001b[0m\u001b[1;32m    194\u001b[0m         \u001b[0mself\u001b[0m\u001b[0;34m.\u001b[0m\u001b[0m_files\u001b[0m \u001b[0;34m=\u001b[0m \u001b[0m_zip\u001b[0m\u001b[0;34m.\u001b[0m\u001b[0mnamelist\u001b[0m\u001b[0;34m(\u001b[0m\u001b[0;34m)\u001b[0m\u001b[0;34m\u001b[0m\u001b[0;34m\u001b[0m\u001b[0m\n\u001b[1;32m    195\u001b[0m         \u001b[0mself\u001b[0m\u001b[0;34m.\u001b[0m\u001b[0mfiles\u001b[0m \u001b[0;34m=\u001b[0m \u001b[0;34m[\u001b[0m\u001b[0;34m]\u001b[0m\u001b[0;34m\u001b[0m\u001b[0;34m\u001b[0m\u001b[0m\n",
            "\u001b[0;32m/usr/local/lib/python3.6/dist-packages/numpy/lib/npyio.py\u001b[0m in \u001b[0;36mzipfile_factory\u001b[0;34m(file, *args, **kwargs)\u001b[0m\n\u001b[1;32m    117\u001b[0m     \u001b[0;32mimport\u001b[0m \u001b[0mzipfile\u001b[0m\u001b[0;34m\u001b[0m\u001b[0;34m\u001b[0m\u001b[0m\n\u001b[1;32m    118\u001b[0m     \u001b[0mkwargs\u001b[0m\u001b[0;34m[\u001b[0m\u001b[0;34m'allowZip64'\u001b[0m\u001b[0;34m]\u001b[0m \u001b[0;34m=\u001b[0m \u001b[0;32mTrue\u001b[0m\u001b[0;34m\u001b[0m\u001b[0;34m\u001b[0m\u001b[0m\n\u001b[0;32m--> 119\u001b[0;31m     \u001b[0;32mreturn\u001b[0m \u001b[0mzipfile\u001b[0m\u001b[0;34m.\u001b[0m\u001b[0mZipFile\u001b[0m\u001b[0;34m(\u001b[0m\u001b[0mfile\u001b[0m\u001b[0;34m,\u001b[0m \u001b[0;34m*\u001b[0m\u001b[0margs\u001b[0m\u001b[0;34m,\u001b[0m \u001b[0;34m**\u001b[0m\u001b[0mkwargs\u001b[0m\u001b[0;34m)\u001b[0m\u001b[0;34m\u001b[0m\u001b[0;34m\u001b[0m\u001b[0m\n\u001b[0m\u001b[1;32m    120\u001b[0m \u001b[0;34m\u001b[0m\u001b[0m\n\u001b[1;32m    121\u001b[0m \u001b[0;34m\u001b[0m\u001b[0m\n",
            "\u001b[0;32m/usr/lib/python3.6/zipfile.py\u001b[0m in \u001b[0;36m__init__\u001b[0;34m(self, file, mode, compression, allowZip64)\u001b[0m\n\u001b[1;32m   1129\u001b[0m         \u001b[0;32mtry\u001b[0m\u001b[0;34m:\u001b[0m\u001b[0;34m\u001b[0m\u001b[0;34m\u001b[0m\u001b[0m\n\u001b[1;32m   1130\u001b[0m             \u001b[0;32mif\u001b[0m \u001b[0mmode\u001b[0m \u001b[0;34m==\u001b[0m \u001b[0;34m'r'\u001b[0m\u001b[0;34m:\u001b[0m\u001b[0;34m\u001b[0m\u001b[0;34m\u001b[0m\u001b[0m\n\u001b[0;32m-> 1131\u001b[0;31m                 \u001b[0mself\u001b[0m\u001b[0;34m.\u001b[0m\u001b[0m_RealGetContents\u001b[0m\u001b[0;34m(\u001b[0m\u001b[0;34m)\u001b[0m\u001b[0;34m\u001b[0m\u001b[0;34m\u001b[0m\u001b[0m\n\u001b[0m\u001b[1;32m   1132\u001b[0m             \u001b[0;32melif\u001b[0m \u001b[0mmode\u001b[0m \u001b[0;32min\u001b[0m \u001b[0;34m(\u001b[0m\u001b[0;34m'w'\u001b[0m\u001b[0;34m,\u001b[0m \u001b[0;34m'x'\u001b[0m\u001b[0;34m)\u001b[0m\u001b[0;34m:\u001b[0m\u001b[0;34m\u001b[0m\u001b[0;34m\u001b[0m\u001b[0m\n\u001b[1;32m   1133\u001b[0m                 \u001b[0;31m# set the modified flag so central directory gets written\u001b[0m\u001b[0;34m\u001b[0m\u001b[0;34m\u001b[0m\u001b[0;34m\u001b[0m\u001b[0m\n",
            "\u001b[0;32m/usr/lib/python3.6/zipfile.py\u001b[0m in \u001b[0;36m_RealGetContents\u001b[0;34m(self)\u001b[0m\n\u001b[1;32m   1192\u001b[0m         \u001b[0mfp\u001b[0m \u001b[0;34m=\u001b[0m \u001b[0mself\u001b[0m\u001b[0;34m.\u001b[0m\u001b[0mfp\u001b[0m\u001b[0;34m\u001b[0m\u001b[0;34m\u001b[0m\u001b[0m\n\u001b[1;32m   1193\u001b[0m         \u001b[0;32mtry\u001b[0m\u001b[0;34m:\u001b[0m\u001b[0;34m\u001b[0m\u001b[0;34m\u001b[0m\u001b[0m\n\u001b[0;32m-> 1194\u001b[0;31m             \u001b[0mendrec\u001b[0m \u001b[0;34m=\u001b[0m \u001b[0m_EndRecData\u001b[0m\u001b[0;34m(\u001b[0m\u001b[0mfp\u001b[0m\u001b[0;34m)\u001b[0m\u001b[0;34m\u001b[0m\u001b[0;34m\u001b[0m\u001b[0m\n\u001b[0m\u001b[1;32m   1195\u001b[0m         \u001b[0;32mexcept\u001b[0m \u001b[0mOSError\u001b[0m\u001b[0;34m:\u001b[0m\u001b[0;34m\u001b[0m\u001b[0;34m\u001b[0m\u001b[0m\n\u001b[1;32m   1196\u001b[0m             \u001b[0;32mraise\u001b[0m \u001b[0mBadZipFile\u001b[0m\u001b[0;34m(\u001b[0m\u001b[0;34m\"File is not a zip file\"\u001b[0m\u001b[0;34m)\u001b[0m\u001b[0;34m\u001b[0m\u001b[0;34m\u001b[0m\u001b[0m\n",
            "\u001b[0;32m/usr/lib/python3.6/zipfile.py\u001b[0m in \u001b[0;36m_EndRecData\u001b[0;34m(fpin)\u001b[0m\n\u001b[1;32m    282\u001b[0m         \u001b[0;31m# Append a blank comment and record start offset\u001b[0m\u001b[0;34m\u001b[0m\u001b[0;34m\u001b[0m\u001b[0;34m\u001b[0m\u001b[0m\n\u001b[1;32m    283\u001b[0m         \u001b[0mendrec\u001b[0m\u001b[0;34m.\u001b[0m\u001b[0mappend\u001b[0m\u001b[0;34m(\u001b[0m\u001b[0;34mb\"\"\u001b[0m\u001b[0;34m)\u001b[0m\u001b[0;34m\u001b[0m\u001b[0;34m\u001b[0m\u001b[0m\n\u001b[0;32m--> 284\u001b[0;31m         \u001b[0mendrec\u001b[0m\u001b[0;34m.\u001b[0m\u001b[0mappend\u001b[0m\u001b[0;34m(\u001b[0m\u001b[0mfilesize\u001b[0m \u001b[0;34m-\u001b[0m \u001b[0msizeEndCentDir\u001b[0m\u001b[0;34m)\u001b[0m\u001b[0;34m\u001b[0m\u001b[0;34m\u001b[0m\u001b[0m\n\u001b[0m\u001b[1;32m    285\u001b[0m \u001b[0;34m\u001b[0m\u001b[0m\n\u001b[1;32m    286\u001b[0m         \u001b[0;31m# Try to read the \"Zip64 end of central directory\" structure\u001b[0m\u001b[0;34m\u001b[0m\u001b[0;34m\u001b[0m\u001b[0;34m\u001b[0m\u001b[0m\n",
            "\u001b[0;31mKeyboardInterrupt\u001b[0m: "
          ]
        }
      ]
    },
    {
      "cell_type": "markdown",
      "metadata": {
        "id": "K7HvwaV-7dEc",
        "colab_type": "text"
      },
      "source": [
        "Pickle the scaler object to use for future prediction"
      ]
    },
    {
      "cell_type": "code",
      "metadata": {
        "id": "dZJIz8Xvypwi",
        "colab_type": "code",
        "colab": {}
      },
      "source": [
        "\n",
        "dbfile = open('/content/scaler', 'rb')      \n",
        "sc = pickle.load(dbfile) \n",
        "dbfile.close() \n",
        "\n",
        "df_scaled = pd.DataFrame(sc.transform(other_test_df1), columns=other_test_df1.columns)\n",
        "df = df_scaled\n",
        "X_test, X_valid, y_test, y_valid = train_test_split(df, other_test_labels1, test_size=0.1, random_state=7)"
      ],
      "execution_count": 341,
      "outputs": []
    },
    {
      "cell_type": "code",
      "metadata": {
        "id": "5qmpfQHIuHJz",
        "colab_type": "code",
        "colab": {}
      },
      "source": [
        "other_test_df1.to_csv(\"/content/drive/My Drive/classification/other_test_df1.csv\",index=False)\n",
        "np.save(\"/content/drive/My Drive/classification/other_test_labels1.npy\",other_test_labels1)"
      ],
      "execution_count": 342,
      "outputs": []
    },
    {
      "cell_type": "code",
      "metadata": {
        "id": "Iv8w_3vcxVSw",
        "colab_type": "code",
        "colab": {
          "base_uri": "https://localhost:8080/",
          "height": 35
        },
        "outputId": "9aaaa345-1c0c-4957-9e1a-3ba3b404c1be"
      },
      "source": [
        "dbfile = open('/content/scaler', 'rb')      \n",
        "sc = pickle.load(dbfile) \n",
        "dbfile.close() \n",
        "\n",
        "single_stats_df = prepare_single_stats_df(\"/content/test_other/LibriSpeech/test-other/6432/63723/6432-63723-0000.flac\")\n",
        "df_scaled = pd.DataFrame(sc.transform(single_stats_df), columns=single_stats_df.columns)\n",
        "df = df_scaled\n",
        "pred = model.predict(df)\n",
        "genders[int(round(pred.reshape(-1)[0]))]"
      ],
      "execution_count": 360,
      "outputs": [
        {
          "output_type": "execute_result",
          "data": {
            "application/vnd.google.colaboratory.intrinsic+json": {
              "type": "string"
            },
            "text/plain": [
              "'M'"
            ]
          },
          "metadata": {
            "tags": []
          },
          "execution_count": 360
        }
      ]
    },
    {
      "cell_type": "code",
      "metadata": {
        "id": "2auuY-3g2N3z",
        "colab_type": "code",
        "colab": {
          "base_uri": "https://localhost:8080/",
          "height": 35
        },
        "outputId": "72751635-8467-4268-e508-63eb499e0d32"
      },
      "source": [
        "from sklearn.metrics import f1_score, fbeta_score\n",
        "y_pred = stat_model.predict(X_test)\n",
        "df_preds = pd.DataFrame({'y_true':np.array(y_test) , 'y_pred':np.array([int(round(x)) for x in y_pred.reshape(-1)])})\n",
        "f1_score(df_preds['y_true'], df_preds['y_pred'], average='macro')*100"
      ],
      "execution_count": 363,
      "outputs": [
        {
          "output_type": "execute_result",
          "data": {
            "text/plain": [
              "87.52826968209943"
            ]
          },
          "metadata": {
            "tags": []
          },
          "execution_count": 363
        }
      ]
    },
    {
      "cell_type": "code",
      "metadata": {
        "id": "3XorooAZHo1D",
        "colab_type": "code",
        "colab": {
          "base_uri": "https://localhost:8080/",
          "height": 87
        },
        "outputId": "f7d94f19-ecf7-4f83-def0-173664bf8f34"
      },
      "source": [
        "confusion_matrix = pd.crosstab(df_preds['y_true'].map({0:'M',1:'F'}), df_preds['y_pred'].map({0:'M',1:'F'}), rownames=['Actual'], colnames=['Predicted'])\n",
        "print (np.round(confusion_matrix/len(X_test) * 100,2))"
      ],
      "execution_count": 364,
      "outputs": [
        {
          "output_type": "stream",
          "text": [
            "Predicted      F      M\n",
            "Actual                 \n",
            "F          43.42   9.47\n",
            "M           3.00  44.11\n"
          ],
          "name": "stdout"
        }
      ]
    },
    {
      "cell_type": "markdown",
      "metadata": {
        "id": "Tq0PHFkfA1BM",
        "colab_type": "text"
      },
      "source": [
        "# Approach 2 : MFCC features Matrix with 2D Convolution Neural Network."
      ]
    },
    {
      "cell_type": "code",
      "metadata": {
        "id": "uQm3E5IqGijH",
        "colab_type": "code",
        "colab": {}
      },
      "source": [
        "MODEL_OPTION = 1"
      ],
      "execution_count": 431,
      "outputs": []
    },
    {
      "cell_type": "markdown",
      "metadata": {
        "id": "h1trGe0mbtT7",
        "colab_type": "text"
      },
      "source": [
        "Now Lets start building Models"
      ]
    },
    {
      "cell_type": "code",
      "metadata": {
        "id": "MT4hIQvUrfAJ",
        "colab_type": "code",
        "colab": {}
      },
      "source": [
        "def model1():\n",
        "    model = Sequential()\n",
        "    \n",
        "    model.add(\n",
        "        Conv1D(filters=16, kernel_size=6, padding='same', activation='relu', data_format='channels_last',\n",
        "               input_shape=(number_of_mfcc*frames, 1)))\n",
        "\n",
        "    model.add(MaxPooling1D(pool_size=3, strides=2, padding='same'))\n",
        "\n",
        "    model.add(\n",
        "        Conv1D(filters=8, kernel_size=6, padding='same', activation='relu', data_format='channels_last'))\n",
        "    model.add(MaxPooling1D(pool_size=3, strides=2, padding='same'))\n",
        "\n",
        "    model.add(\n",
        "        Conv1D(filters=16, kernel_size=6, padding='same', activation='relu', data_format='channels_last'))\n",
        "    model.add(MaxPooling1D(pool_size=3, strides=2, padding='same'))\n",
        "\n",
        "    model.add(\n",
        "        Conv1D(filters=8, kernel_size=6, padding='same', activation='relu', data_format='channels_last'))\n",
        "    model.add(MaxPooling1D(pool_size=3, strides=2, padding='same'))\n",
        "\n",
        "\n",
        "    # model.add(LSTM(256,return_sequences=True))\n",
        "    model.add(TimeDistributed(Flatten()))\n",
        "    model.add(Dropout(0.4))\n",
        "    model.add(Flatten())\n",
        "    # model.add(Dense(units=512, activation='relu'))\n",
        "    model.add(Dense(units=256, activation='relu'))\n",
        "    model.add(Dense(units=1, activation='sigmoid', name='output_layer'))\n",
        "    return model"
      ],
      "execution_count": 432,
      "outputs": []
    },
    {
      "cell_type": "code",
      "metadata": {
        "id": "9IYZ_Xcrb8Ja",
        "colab_type": "code",
        "colab": {}
      },
      "source": [
        "def model2():\n",
        "    model = Sequential()\n",
        "\n",
        "    model.add(Conv2D(filters=16, kernel_size=(6, 6), strides=(1, 1), input_shape=(number_of_mfcc, frames, 1),\n",
        "                     activation='relu'))\n",
        "    model.add(MaxPooling2D(pool_size=(3, 3), strides=(2, 2), padding='same'))\n",
        "    model.add(BatchNormalization())    \n",
        "\n",
        "    model.add(Conv2D(filters=16, kernel_size=(6, 6), strides=(1, 1),activation='relu'))\n",
        "    model.add(MaxPooling2D(pool_size=(3, 3), strides=(2, 2), padding='same'))\n",
        "    model.add(BatchNormalization())\n",
        "\n",
        "    model.add(Conv2D(filters=8, kernel_size=(3, 3), strides=(1, 1),activation='relu'))\n",
        "    model.add(MaxPooling2D(pool_size=(3, 3), strides=(2, 2), padding='same'))\n",
        "    model.add(BatchNormalization())\n",
        "\n",
        "    # model.add(tf.keras.layers.GaussianNoise(.06))\n",
        "    # model.add(LSTM(56))\n",
        "    model.add(Flatten())\n",
        "    model.add(Dropout(0.4))\n",
        "    model.add(Dense(units=256, activation='relu'))\n",
        "    model.add(Dropout(0.4))\n",
        "    model.add(Dense(units=1, activation='sigmoid', name='output_layer'))\n",
        "\n",
        "    return model"
      ],
      "execution_count": 433,
      "outputs": []
    },
    {
      "cell_type": "code",
      "metadata": {
        "id": "k__IDVJCb_LI",
        "colab_type": "code",
        "colab": {}
      },
      "source": [
        "def step_decay(epoch):\n",
        "    # 00158 = 90.4%\n",
        "\tinitial_lrate = 0.00158\n",
        "\tdrop = 0.9\n",
        "\tepochs_drop = 1\n",
        "\tlrate = initial_lrate * math.pow(drop, math.floor((1+epoch)/epochs_drop))\n",
        "\treturn lrate"
      ],
      "execution_count": 434,
      "outputs": []
    },
    {
      "cell_type": "markdown",
      "metadata": {
        "id": "CjarXP-zUeKJ",
        "colab_type": "text"
      },
      "source": [
        "Model 1"
      ]
    },
    {
      "cell_type": "code",
      "metadata": {
        "id": "BgrC937McD4r",
        "colab_type": "code",
        "colab": {}
      },
      "source": [
        "early_stopping = EarlyStopping(monitor='val_loss',\n",
        "                          min_delta=0,\n",
        "                          patience=3,\n",
        "                          verbose=2, \n",
        "                          mode='auto')\n",
        "checkpointer = ModelCheckpoint(filepath='model_check1.h5', verbose=1, monitor='val_loss', save_best_only=True)\n",
        "lrate = LearningRateScheduler(step_decay)"
      ],
      "execution_count": 435,
      "outputs": []
    },
    {
      "cell_type": "code",
      "metadata": {
        "id": "paL3DlipUhqK",
        "colab_type": "code",
        "colab": {}
      },
      "source": [
        "X_train, y_train , X_valid, y_valid, X_test, y_test, files_df = extract_data(files_df,url_file_selection = 'D',extract_type='M',drive_path=drive_path)\n",
        "X_train = np.reshape(X_train, [len(X_train), number_of_mfcc* frames, 1])\n",
        "X_valid = np.reshape(X_valid, [len(X_valid), number_of_mfcc* frames, 1])\n",
        "X_test = np.reshape(X_test, [len(X_test), number_of_mfcc* frames, 1])"
      ],
      "execution_count": 436,
      "outputs": []
    },
    {
      "cell_type": "code",
      "metadata": {
        "id": "5WhhYEsPcVig",
        "colab_type": "code",
        "colab": {
          "base_uri": "https://localhost:8080/",
          "height": 607
        },
        "outputId": "ed513050-1e13-46cb-bf31-cf267e21220f"
      },
      "source": [
        "model_1 = model1()\n",
        "\n",
        "model_1.compile(loss='binary_crossentropy',\n",
        "                  optimizer='adam', #tf.keras.optimizers.SGD(lr=1e-4, decay=1e-6, momentum=0.9, nesterov=True),\n",
        "                  metrics=['accuracy'])  \n",
        "model_1.summary()"
      ],
      "execution_count": 437,
      "outputs": [
        {
          "output_type": "stream",
          "text": [
            "Model: \"sequential_17\"\n",
            "_________________________________________________________________\n",
            "Layer (type)                 Output Shape              Param #   \n",
            "=================================================================\n",
            "conv1d_8 (Conv1D)            (None, 3480, 16)          112       \n",
            "_________________________________________________________________\n",
            "max_pooling1d_8 (MaxPooling1 (None, 1740, 16)          0         \n",
            "_________________________________________________________________\n",
            "conv1d_9 (Conv1D)            (None, 1740, 8)           776       \n",
            "_________________________________________________________________\n",
            "max_pooling1d_9 (MaxPooling1 (None, 870, 8)            0         \n",
            "_________________________________________________________________\n",
            "conv1d_10 (Conv1D)           (None, 870, 16)           784       \n",
            "_________________________________________________________________\n",
            "max_pooling1d_10 (MaxPooling (None, 435, 16)           0         \n",
            "_________________________________________________________________\n",
            "conv1d_11 (Conv1D)           (None, 435, 8)            776       \n",
            "_________________________________________________________________\n",
            "max_pooling1d_11 (MaxPooling (None, 218, 8)            0         \n",
            "_________________________________________________________________\n",
            "time_distributed_2 (TimeDist (None, 218, 8)            0         \n",
            "_________________________________________________________________\n",
            "dropout_42 (Dropout)         (None, 218, 8)            0         \n",
            "_________________________________________________________________\n",
            "flatten_8 (Flatten)          (None, 1744)              0         \n",
            "_________________________________________________________________\n",
            "dense_63 (Dense)             (None, 256)               446720    \n",
            "_________________________________________________________________\n",
            "output_layer (Dense)         (None, 1)                 257       \n",
            "=================================================================\n",
            "Total params: 449,425\n",
            "Trainable params: 449,425\n",
            "Non-trainable params: 0\n",
            "_________________________________________________________________\n"
          ],
          "name": "stdout"
        }
      ]
    },
    {
      "cell_type": "code",
      "metadata": {
        "id": "DCMAPJ_3cvUH",
        "colab_type": "code",
        "colab": {
          "base_uri": "https://localhost:8080/",
          "height": 1000
        },
        "outputId": "542b7ee7-c2d7-41c3-8a0a-468c53523ab2"
      },
      "source": [
        "history_1 = model_1.fit(X_train, np.array(y_train), batch_size=20, epochs=120, verbose=1, validation_data=(X_valid, np.array(y_valid)),callbacks=[early_stopping, checkpointer, lrate ])"
      ],
      "execution_count": 438,
      "outputs": [
        {
          "output_type": "stream",
          "text": [
            "Epoch 1/120\n",
            "383/386 [============================>.] - ETA: 0s - loss: 0.3200 - accuracy: 0.8667\n",
            "Epoch 00001: val_loss improved from inf to 0.22181, saving model to model_check1.h5\n",
            "386/386 [==============================] - 4s 11ms/step - loss: 0.3193 - accuracy: 0.8669 - val_loss: 0.2218 - val_accuracy: 0.9007\n",
            "Epoch 2/120\n",
            "385/386 [============================>.] - ETA: 0s - loss: 0.2434 - accuracy: 0.8891\n",
            "Epoch 00002: val_loss improved from 0.22181 to 0.21881, saving model to model_check1.h5\n",
            "386/386 [==============================] - 4s 9ms/step - loss: 0.2434 - accuracy: 0.8892 - val_loss: 0.2188 - val_accuracy: 0.9025\n",
            "Epoch 3/120\n",
            "385/386 [============================>.] - ETA: 0s - loss: 0.2222 - accuracy: 0.9004\n",
            "Epoch 00003: val_loss improved from 0.21881 to 0.21026, saving model to model_check1.h5\n",
            "386/386 [==============================] - 4s 9ms/step - loss: 0.2224 - accuracy: 0.9002 - val_loss: 0.2103 - val_accuracy: 0.9116\n",
            "Epoch 4/120\n",
            "386/386 [==============================] - ETA: 0s - loss: 0.2036 - accuracy: 0.9019\n",
            "Epoch 00004: val_loss improved from 0.21026 to 0.18171, saving model to model_check1.h5\n",
            "386/386 [==============================] - 3s 9ms/step - loss: 0.2036 - accuracy: 0.9019 - val_loss: 0.1817 - val_accuracy: 0.9152\n",
            "Epoch 5/120\n",
            "385/386 [============================>.] - ETA: 0s - loss: 0.1944 - accuracy: 0.9101\n",
            "Epoch 00005: val_loss did not improve from 0.18171\n",
            "386/386 [==============================] - 3s 9ms/step - loss: 0.1944 - accuracy: 0.9102 - val_loss: 0.1833 - val_accuracy: 0.9107\n",
            "Epoch 6/120\n",
            "380/386 [============================>.] - ETA: 0s - loss: 0.1812 - accuracy: 0.9087\n",
            "Epoch 00006: val_loss improved from 0.18171 to 0.17421, saving model to model_check1.h5\n",
            "386/386 [==============================] - 3s 9ms/step - loss: 0.1816 - accuracy: 0.9092 - val_loss: 0.1742 - val_accuracy: 0.9125\n",
            "Epoch 7/120\n",
            "382/386 [============================>.] - ETA: 0s - loss: 0.1682 - accuracy: 0.9178\n",
            "Epoch 00007: val_loss did not improve from 0.17421\n",
            "386/386 [==============================] - 4s 9ms/step - loss: 0.1683 - accuracy: 0.9176 - val_loss: 0.1762 - val_accuracy: 0.9098\n",
            "Epoch 8/120\n",
            "382/386 [============================>.] - ETA: 0s - loss: 0.1625 - accuracy: 0.9200\n",
            "Epoch 00008: val_loss improved from 0.17421 to 0.17144, saving model to model_check1.h5\n",
            "386/386 [==============================] - 4s 9ms/step - loss: 0.1623 - accuracy: 0.9204 - val_loss: 0.1714 - val_accuracy: 0.9075\n",
            "Epoch 9/120\n",
            "380/386 [============================>.] - ETA: 0s - loss: 0.1570 - accuracy: 0.9233\n",
            "Epoch 00009: val_loss improved from 0.17144 to 0.16679, saving model to model_check1.h5\n",
            "386/386 [==============================] - 4s 9ms/step - loss: 0.1567 - accuracy: 0.9233 - val_loss: 0.1668 - val_accuracy: 0.9093\n",
            "Epoch 10/120\n",
            "381/386 [============================>.] - ETA: 0s - loss: 0.1508 - accuracy: 0.9223\n",
            "Epoch 00010: val_loss did not improve from 0.16679\n",
            "386/386 [==============================] - 3s 9ms/step - loss: 0.1501 - accuracy: 0.9226 - val_loss: 0.1797 - val_accuracy: 0.9070\n",
            "Epoch 11/120\n",
            "380/386 [============================>.] - ETA: 0s - loss: 0.1389 - accuracy: 0.9280\n",
            "Epoch 00011: val_loss did not improve from 0.16679\n",
            "386/386 [==============================] - 4s 9ms/step - loss: 0.1391 - accuracy: 0.9280 - val_loss: 0.1730 - val_accuracy: 0.9138\n",
            "Epoch 12/120\n",
            "381/386 [============================>.] - ETA: 0s - loss: 0.1292 - accuracy: 0.9339\n",
            "Epoch 00012: val_loss improved from 0.16679 to 0.16576, saving model to model_check1.h5\n",
            "386/386 [==============================] - 3s 9ms/step - loss: 0.1299 - accuracy: 0.9338 - val_loss: 0.1658 - val_accuracy: 0.9120\n",
            "Epoch 13/120\n",
            "386/386 [==============================] - ETA: 0s - loss: 0.1251 - accuracy: 0.9334\n",
            "Epoch 00013: val_loss did not improve from 0.16576\n",
            "386/386 [==============================] - 3s 9ms/step - loss: 0.1251 - accuracy: 0.9334 - val_loss: 0.1725 - val_accuracy: 0.9102\n",
            "Epoch 14/120\n",
            "384/386 [============================>.] - ETA: 0s - loss: 0.1258 - accuracy: 0.9368\n",
            "Epoch 00014: val_loss improved from 0.16576 to 0.15987, saving model to model_check1.h5\n",
            "386/386 [==============================] - 3s 9ms/step - loss: 0.1257 - accuracy: 0.9369 - val_loss: 0.1599 - val_accuracy: 0.9111\n",
            "Epoch 15/120\n",
            "386/386 [==============================] - ETA: 0s - loss: 0.1193 - accuracy: 0.9375\n",
            "Epoch 00015: val_loss did not improve from 0.15987\n",
            "386/386 [==============================] - 3s 9ms/step - loss: 0.1193 - accuracy: 0.9375 - val_loss: 0.1673 - val_accuracy: 0.9134\n",
            "Epoch 16/120\n",
            "381/386 [============================>.] - ETA: 0s - loss: 0.1139 - accuracy: 0.9415\n",
            "Epoch 00016: val_loss did not improve from 0.15987\n",
            "386/386 [==============================] - 3s 9ms/step - loss: 0.1135 - accuracy: 0.9416 - val_loss: 0.1700 - val_accuracy: 0.9020\n",
            "Epoch 17/120\n",
            "386/386 [==============================] - ETA: 0s - loss: 0.1072 - accuracy: 0.9444\n",
            "Epoch 00017: val_loss did not improve from 0.15987\n",
            "386/386 [==============================] - 3s 9ms/step - loss: 0.1072 - accuracy: 0.9444 - val_loss: 0.1724 - val_accuracy: 0.9084\n",
            "Epoch 00017: early stopping\n"
          ],
          "name": "stdout"
        }
      ]
    },
    {
      "cell_type": "code",
      "metadata": {
        "id": "HgI0xlIpc0gP",
        "colab_type": "code",
        "colab": {
          "base_uri": "https://localhost:8080/",
          "height": 35
        },
        "outputId": "a92398bb-a464-47ae-9691-d76f3b5a1444"
      },
      "source": [
        "from sklearn.metrics import f1_score, fbeta_score\n",
        "y_pred = model_1.predict(X_test)\n",
        "df_preds = pd.DataFrame({'y_true':np.array(y_test) , 'y_pred':np.array([int(round(x)) for x in y_pred.reshape(-1)])})\n",
        "f1_score(df_preds['y_true'], df_preds['y_pred'], average='macro')*100\n"
      ],
      "execution_count": 439,
      "outputs": [
        {
          "output_type": "execute_result",
          "data": {
            "text/plain": [
              "89.48176646608135"
            ]
          },
          "metadata": {
            "tags": []
          },
          "execution_count": 439
        }
      ]
    },
    {
      "cell_type": "code",
      "metadata": {
        "id": "1lFhGMEKfiRV",
        "colab_type": "code",
        "colab": {
          "base_uri": "https://localhost:8080/",
          "height": 87
        },
        "outputId": "edbc0b3e-a995-41e4-8acb-1cdf251389e8"
      },
      "source": [
        "confusion_matrix = pd.crosstab(df_preds['y_true'].map({0:'M',1:'F'}), df_preds['y_pred'].map({0:'M',1:'F'}), rownames=['Actual'], colnames=['Predicted'])\n",
        "print (np.round(confusion_matrix/len(X_test) * 100,2))"
      ],
      "execution_count": 440,
      "outputs": [
        {
          "output_type": "stream",
          "text": [
            "Predicted      F      M\n",
            "Actual                 \n",
            "F          44.15   4.81\n",
            "M           5.71  45.33\n"
          ],
          "name": "stdout"
        }
      ]
    },
    {
      "cell_type": "code",
      "metadata": {
        "id": "ahbIa9dXEEZB",
        "colab_type": "code",
        "colab": {}
      },
      "source": [
        "model_1.load_weights('model_check1.h5')"
      ],
      "execution_count": 441,
      "outputs": []
    },
    {
      "cell_type": "code",
      "metadata": {
        "id": "v7zsiZuLVu86",
        "colab_type": "code",
        "colab": {
          "base_uri": "https://localhost:8080/",
          "height": 35
        },
        "outputId": "9c046403-1206-481b-b2c0-3e39c6221aa0"
      },
      "source": [
        "other_test = np.load('/content/drive/My Drive/classification/test_other.npy')\n",
        "other_test_labels = np.load('/content/drive/My Drive/classification/test_other_labels.npy')\n",
        "other_test = other_test.reshape(other_test.shape[0],other_test.shape[1]*other_test.shape[2],1)\n",
        "y_pred = model_1.predict(other_test)\n",
        "df_preds = pd.DataFrame({'y_true':np.array(other_test_labels) , 'y_pred':np.array([int(round(x)) for x in y_pred.reshape(-1)])})\n",
        "f1_score(df_preds['y_true'], df_preds['y_pred'], average='macro')*100"
      ],
      "execution_count": 442,
      "outputs": [
        {
          "output_type": "execute_result",
          "data": {
            "text/plain": [
              "87.18544496994593"
            ]
          },
          "metadata": {
            "tags": []
          },
          "execution_count": 442
        }
      ]
    },
    {
      "cell_type": "code",
      "metadata": {
        "id": "8TNBOjqy_NbK",
        "colab_type": "code",
        "colab": {}
      },
      "source": [
        "save_model_json(drive_path,model,'model_mfcc1')"
      ],
      "execution_count": null,
      "outputs": []
    },
    {
      "cell_type": "markdown",
      "metadata": {
        "id": "VFa85-MX_ktD",
        "colab_type": "text"
      },
      "source": [
        "Training History"
      ]
    },
    {
      "cell_type": "code",
      "metadata": {
        "id": "DW4vi1TK_jzl",
        "colab_type": "code",
        "colab": {
          "base_uri": "https://localhost:8080/",
          "height": 573
        },
        "outputId": "797c8f56-0ab0-4e9c-ca42-fb304c3259e7"
      },
      "source": [
        "plt.plot(history_1.history['accuracy'])\n",
        "plt.plot(history_1.history['val_accuracy'])\n",
        "plt.title('model accuracy')\n",
        "plt.ylabel('accuracy')\n",
        "plt.xlabel('epoch')\n",
        "plt.legend(['train', 'test'], loc='upper left')\n",
        "plt.show()\n",
        "# summarize history for loss\n",
        "plt.plot(history_1.history['loss'])\n",
        "plt.plot(history_1.history['val_loss'])\n",
        "plt.title('model loss')\n",
        "plt.ylabel('loss')\n",
        "plt.xlabel('epoch')\n",
        "plt.legend(['train', 'test'], loc='upper left')\n",
        "plt.show()"
      ],
      "execution_count": 443,
      "outputs": [
        {
          "output_type": "display_data",
          "data": {
            "image/png": "[encoded data removed]",
            "text/plain": [
              "<Figure size 432x288 with 1 Axes>"
            ]
          },
          "metadata": {
            "tags": [],
            "needs_background": "light"
          }
        },
        {
          "output_type": "display_data",
          "data": {
            "image/png": "[encoded data removed]",
            "text/plain": [
              "<Figure size 432x288 with 1 Axes>"
            ]
          },
          "metadata": {
            "tags": [],
            "needs_background": "light"
          }
        }
      ]
    },
    {
      "cell_type": "markdown",
      "metadata": {
        "id": "N9bh8U2bePFv",
        "colab_type": "text"
      },
      "source": [
        "Model 2"
      ]
    },
    {
      "cell_type": "code",
      "metadata": {
        "id": "WSwn76IPeOeQ",
        "colab_type": "code",
        "colab": {}
      },
      "source": [
        "X_train, y_train , X_valid, y_valid, X_test, y_test, files_df = extract_data(files_df,url_file_selection = 'D',extract_type='M',drive_path=drive_path)\n",
        "X_train = np.reshape(X_train, [len(X_train), number_of_mfcc, frames, 1])\n",
        "X_valid = np.reshape(X_valid, [len(X_valid), number_of_mfcc, frames, 1])\n",
        "X_test = np.reshape(X_test, [len(X_test), number_of_mfcc, frames, 1])"
      ],
      "execution_count": 444,
      "outputs": []
    },
    {
      "cell_type": "code",
      "metadata": {
        "id": "QU1UpP-nehMS",
        "colab_type": "code",
        "colab": {}
      },
      "source": [
        "early_stopping = EarlyStopping(monitor='val_loss',\n",
        "                          min_delta=0,\n",
        "                          patience=3,\n",
        "                          verbose=2, \n",
        "                          mode='auto')\n",
        "checkpointer = ModelCheckpoint(filepath='model_check2.h5', verbose=1, monitor='val_loss', save_best_only=True)\n",
        "lrate = LearningRateScheduler(step_decay)"
      ],
      "execution_count": 445,
      "outputs": []
    },
    {
      "cell_type": "code",
      "metadata": {
        "id": "JAYkuxwbeOjW",
        "colab_type": "code",
        "colab": {
          "base_uri": "https://localhost:8080/",
          "height": 641
        },
        "outputId": "c8617191-76e5-41aa-e677-efa449201842"
      },
      "source": [
        "model_2 = model2()\n",
        "\n",
        "model_2.compile(loss='binary_crossentropy',\n",
        "                  optimizer='adam', #tf.keras.optimizers.SGD(lr=1e-4, decay=1e-6, momentum=0.9, nesterov=True),\n",
        "                  metrics=['accuracy'])  \n",
        "model_2.summary()"
      ],
      "execution_count": 446,
      "outputs": [
        {
          "output_type": "stream",
          "text": [
            "Model: \"sequential_18\"\n",
            "_________________________________________________________________\n",
            "Layer (type)                 Output Shape              Param #   \n",
            "=================================================================\n",
            "conv2d_9 (Conv2D)            (None, 35, 82, 16)        592       \n",
            "_________________________________________________________________\n",
            "max_pooling2d_9 (MaxPooling2 (None, 18, 41, 16)        0         \n",
            "_________________________________________________________________\n",
            "batch_normalization_9 (Batch (None, 18, 41, 16)        64        \n",
            "_________________________________________________________________\n",
            "conv2d_10 (Conv2D)           (None, 13, 36, 16)        9232      \n",
            "_________________________________________________________________\n",
            "max_pooling2d_10 (MaxPooling (None, 7, 18, 16)         0         \n",
            "_________________________________________________________________\n",
            "batch_normalization_10 (Batc (None, 7, 18, 16)         64        \n",
            "_________________________________________________________________\n",
            "conv2d_11 (Conv2D)           (None, 5, 16, 8)          1160      \n",
            "_________________________________________________________________\n",
            "max_pooling2d_11 (MaxPooling (None, 3, 8, 8)           0         \n",
            "_________________________________________________________________\n",
            "batch_normalization_11 (Batc (None, 3, 8, 8)           32        \n",
            "_________________________________________________________________\n",
            "flatten_9 (Flatten)          (None, 192)               0         \n",
            "_________________________________________________________________\n",
            "dropout_43 (Dropout)         (None, 192)               0         \n",
            "_________________________________________________________________\n",
            "dense_64 (Dense)             (None, 256)               49408     \n",
            "_________________________________________________________________\n",
            "dropout_44 (Dropout)         (None, 256)               0         \n",
            "_________________________________________________________________\n",
            "output_layer (Dense)         (None, 1)                 257       \n",
            "=================================================================\n",
            "Total params: 60,809\n",
            "Trainable params: 60,729\n",
            "Non-trainable params: 80\n",
            "_________________________________________________________________\n"
          ],
          "name": "stdout"
        }
      ]
    },
    {
      "cell_type": "code",
      "metadata": {
        "id": "tquC2csxeOhf",
        "colab_type": "code",
        "colab": {
          "base_uri": "https://localhost:8080/",
          "height": 817
        },
        "outputId": "9d0fe271-7d06-42ae-82e8-3ed3a12de805"
      },
      "source": [
        "history_2 = model_2.fit(X_train, np.array(y_train), batch_size=20, epochs=120, verbose=1, validation_data=(X_valid, np.array(y_valid)),callbacks=[early_stopping, checkpointer, lrate ])"
      ],
      "execution_count": 447,
      "outputs": [
        {
          "output_type": "stream",
          "text": [
            "Epoch 1/120\n",
            "381/386 [============================>.] - ETA: 0s - loss: 0.3733 - accuracy: 0.8406\n",
            "Epoch 00001: val_loss improved from inf to 0.37853, saving model to model_check2.h5\n",
            "386/386 [==============================] - 3s 9ms/step - loss: 0.3719 - accuracy: 0.8414 - val_loss: 0.3785 - val_accuracy: 0.8458\n",
            "Epoch 2/120\n",
            "384/386 [============================>.] - ETA: 0s - loss: 0.2572 - accuracy: 0.8892\n",
            "Epoch 00002: val_loss improved from 0.37853 to 0.23810, saving model to model_check2.h5\n",
            "386/386 [==============================] - 3s 8ms/step - loss: 0.2579 - accuracy: 0.8888 - val_loss: 0.2381 - val_accuracy: 0.8785\n",
            "Epoch 3/120\n",
            "386/386 [==============================] - ETA: 0s - loss: 0.2201 - accuracy: 0.8976\n",
            "Epoch 00003: val_loss improved from 0.23810 to 0.21973, saving model to model_check2.h5\n",
            "386/386 [==============================] - 3s 8ms/step - loss: 0.2201 - accuracy: 0.8976 - val_loss: 0.2197 - val_accuracy: 0.8907\n",
            "Epoch 4/120\n",
            "383/386 [============================>.] - ETA: 0s - loss: 0.1872 - accuracy: 0.9138\n",
            "Epoch 00004: val_loss improved from 0.21973 to 0.16802, saving model to model_check2.h5\n",
            "386/386 [==============================] - 3s 8ms/step - loss: 0.1875 - accuracy: 0.9134 - val_loss: 0.1680 - val_accuracy: 0.9170\n",
            "Epoch 5/120\n",
            "384/386 [============================>.] - ETA: 0s - loss: 0.1781 - accuracy: 0.9112\n",
            "Epoch 00005: val_loss improved from 0.16802 to 0.14208, saving model to model_check2.h5\n",
            "386/386 [==============================] - 3s 8ms/step - loss: 0.1778 - accuracy: 0.9115 - val_loss: 0.1421 - val_accuracy: 0.9252\n",
            "Epoch 6/120\n",
            "380/386 [============================>.] - ETA: 0s - loss: 0.1521 - accuracy: 0.9236\n",
            "Epoch 00006: val_loss did not improve from 0.14208\n",
            "386/386 [==============================] - 3s 8ms/step - loss: 0.1514 - accuracy: 0.9238 - val_loss: 0.1496 - val_accuracy: 0.9206\n",
            "Epoch 7/120\n",
            "384/386 [============================>.] - ETA: 0s - loss: 0.1397 - accuracy: 0.9262\n",
            "Epoch 00007: val_loss did not improve from 0.14208\n",
            "386/386 [==============================] - 3s 8ms/step - loss: 0.1394 - accuracy: 0.9261 - val_loss: 0.1446 - val_accuracy: 0.9256\n",
            "Epoch 8/120\n",
            "382/386 [============================>.] - ETA: 0s - loss: 0.1387 - accuracy: 0.9297\n",
            "Epoch 00008: val_loss improved from 0.14208 to 0.14107, saving model to model_check2.h5\n",
            "386/386 [==============================] - 3s 8ms/step - loss: 0.1383 - accuracy: 0.9298 - val_loss: 0.1411 - val_accuracy: 0.9252\n",
            "Epoch 9/120\n",
            "385/386 [============================>.] - ETA: 0s - loss: 0.1297 - accuracy: 0.9329\n",
            "Epoch 00009: val_loss did not improve from 0.14107\n",
            "386/386 [==============================] - 3s 8ms/step - loss: 0.1297 - accuracy: 0.9329 - val_loss: 0.1532 - val_accuracy: 0.9224\n",
            "Epoch 10/120\n",
            "385/386 [============================>.] - ETA: 0s - loss: 0.1213 - accuracy: 0.9339\n",
            "Epoch 00010: val_loss did not improve from 0.14107\n",
            "386/386 [==============================] - 3s 8ms/step - loss: 0.1215 - accuracy: 0.9337 - val_loss: 0.1789 - val_accuracy: 0.9129\n",
            "Epoch 11/120\n",
            "382/386 [============================>.] - ETA: 0s - loss: 0.1196 - accuracy: 0.9343\n",
            "Epoch 00011: val_loss did not improve from 0.14107\n",
            "386/386 [==============================] - 3s 8ms/step - loss: 0.1201 - accuracy: 0.9337 - val_loss: 0.1555 - val_accuracy: 0.9184\n",
            "Epoch 00011: early stopping\n"
          ],
          "name": "stdout"
        }
      ]
    },
    {
      "cell_type": "markdown",
      "metadata": {
        "id": "KM4ERH-b-0IR",
        "colab_type": "text"
      },
      "source": [
        "Plot Training History"
      ]
    },
    {
      "cell_type": "code",
      "metadata": {
        "id": "Zufxbks9-ba0",
        "colab_type": "code",
        "colab": {
          "base_uri": "https://localhost:8080/",
          "height": 573
        },
        "outputId": "90963acd-5cb4-4374-e15f-198978435cfa"
      },
      "source": [
        "plt.plot(history.history['accuracy'])\n",
        "plt.plot(history.history['val_accuracy'])\n",
        "plt.title('model accuracy')\n",
        "plt.ylabel('accuracy')\n",
        "plt.xlabel('epoch')\n",
        "plt.legend(['train', 'test'], loc='upper left')\n",
        "plt.show()\n",
        "# summarize history for loss\n",
        "plt.plot(history.history['loss'])\n",
        "plt.plot(history.history['val_loss'])\n",
        "plt.title('model loss')\n",
        "plt.ylabel('loss')\n",
        "plt.xlabel('epoch')\n",
        "plt.legend(['train', 'test'], loc='upper left')\n",
        "plt.show()"
      ],
      "execution_count": 448,
      "outputs": [
        {
          "output_type": "display_data",
          "data": {
            "image/png": "[encoded data removed]",
            "text/plain": [
              "<Figure size 432x288 with 1 Axes>"
            ]
          },
          "metadata": {
            "tags": [],
            "needs_background": "light"
          }
        },
        {
          "output_type": "display_data",
          "data": {
            "image/png": "[encoded data removed]",
            "text/plain": [
              "<Figure size 432x288 with 1 Axes>"
            ]
          },
          "metadata": {
            "tags": [],
            "needs_background": "light"
          }
        }
      ]
    },
    {
      "cell_type": "code",
      "metadata": {
        "colab_type": "code",
        "id": "aPKdCPQ5e3OU",
        "colab": {
          "base_uri": "https://localhost:8080/",
          "height": 35
        },
        "outputId": "2190a247-569c-449c-ac17-91a6ef9ba645"
      },
      "source": [
        "from sklearn.metrics import f1_score, fbeta_score\n",
        "y_pred = model_2.predict(X_test)\n",
        "df_preds = pd.DataFrame({'y_true':np.array(y_test) , 'y_pred':np.array([int(round(x)) for x in y_pred.reshape(-1)])})\n",
        "f1_score(df_preds['y_true'], df_preds['y_pred'], average='macro')*100\n"
      ],
      "execution_count": 449,
      "outputs": [
        {
          "output_type": "execute_result",
          "data": {
            "text/plain": [
              "92.65629507978429"
            ]
          },
          "metadata": {
            "tags": []
          },
          "execution_count": 449
        }
      ]
    },
    {
      "cell_type": "code",
      "metadata": {
        "colab_type": "code",
        "id": "dhqND37Ke3Od",
        "colab": {
          "base_uri": "https://localhost:8080/",
          "height": 87
        },
        "outputId": "c6a4fc07-9cd8-47f1-aa80-e94ff6e88660"
      },
      "source": [
        "confusion_matrix = pd.crosstab(df_preds['y_true'].map({0:'M',1:'F'}), df_preds['y_pred'].map({0:'M',1:'F'}), rownames=['Actual'], colnames=['Predicted'])\n",
        "print (np.round(confusion_matrix/len(X_test) * 100,2))"
      ],
      "execution_count": 450,
      "outputs": [
        {
          "output_type": "stream",
          "text": [
            "Predicted      F      M\n",
            "Actual                 \n",
            "F          46.15   2.81\n",
            "M           4.53  46.51\n"
          ],
          "name": "stdout"
        }
      ]
    },
    {
      "cell_type": "code",
      "metadata": {
        "id": "3qhbBb2xfGfy",
        "colab_type": "code",
        "colab": {
          "base_uri": "https://localhost:8080/",
          "height": 35
        },
        "outputId": "4f889ace-0f69-4403-d77f-8600f92255d1"
      },
      "source": [
        "other_test = np.load('/content/drive/My Drive/classification/test_other.npy')\n",
        "other_test_labels = np.load('/content/drive/My Drive/classification/test_other_labels.npy')\n",
        "y_pred = model_2.predict(other_test)\n",
        "df_preds = pd.DataFrame({'y_true':np.array(other_test_labels) , 'y_pred':np.array([int(round(x)) for x in y_pred.reshape(-1)])})\n",
        "f1_score(df_preds['y_true'], df_preds['y_pred'], average='macro')*100"
      ],
      "execution_count": 451,
      "outputs": [
        {
          "output_type": "execute_result",
          "data": {
            "text/plain": [
              "87.78907413812436"
            ]
          },
          "metadata": {
            "tags": []
          },
          "execution_count": 451
        }
      ]
    },
    {
      "cell_type": "code",
      "metadata": {
        "id": "w-SHA6iU-MLF",
        "colab_type": "code",
        "colab": {
          "base_uri": "https://localhost:8080/",
          "height": 35
        },
        "outputId": "7eec2b04-57a2-4763-e6a9-eae14c49316d"
      },
      "source": [
        "predict_gender(\"/content/sp03_street_sn5.wav\",\"3528-168656-0000.flac\",model_option=2)"
      ],
      "execution_count": 452,
      "outputs": [
        {
          "output_type": "execute_result",
          "data": {
            "application/vnd.google.colaboratory.intrinsic+json": {
              "type": "string"
            },
            "text/plain": [
              "'M'"
            ]
          },
          "metadata": {
            "tags": []
          },
          "execution_count": 452
        }
      ]
    },
    {
      "cell_type": "code",
      "metadata": {
        "id": "xf3WEBqtJEWl",
        "colab_type": "code",
        "colab": {}
      },
      "source": [
        "save_model_json(dir_path=drive_path,model_obj=model_2,model_name='mfcc_model_2')"
      ],
      "execution_count": 459,
      "outputs": []
    }
  ]
}